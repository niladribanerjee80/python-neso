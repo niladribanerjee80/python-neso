{
  "cells": [
    {
      "cell_type": "markdown",
      "metadata": {
        "id": "view-in-github",
        "colab_type": "text"
      },
      "source": [
        "<a href=\"https://colab.research.google.com/github/niladribanerjee80/python-neso/blob/main/00.Intro.ipynb\" target=\"_parent\"><img src=\"https://colab.research.google.com/assets/colab-badge.svg\" alt=\"Open In Colab\"/></a>"
      ]
    },
    {
      "cell_type": "code",
      "execution_count": null,
      "id": "37eb1921-8639-437a-8c06-5a455c3eafea",
      "metadata": {
        "id": "37eb1921-8639-437a-8c06-5a455c3eafea",
        "outputId": "50d9f71a-2ed7-4de4-9d83-d115abf0e363"
      },
      "outputs": [
        {
          "name": "stdout",
          "output_type": "stream",
          "text": [
            "Hello world\n"
          ]
        }
      ],
      "source": [
        "print(\"Hello world\")"
      ]
    },
    {
      "cell_type": "code",
      "execution_count": null,
      "id": "a4d61f3d-9bbb-4f34-b268-6d696a6ae7a6",
      "metadata": {
        "id": "a4d61f3d-9bbb-4f34-b268-6d696a6ae7a6"
      },
      "outputs": [],
      "source": [
        "# Translator = It is a s/w that translates source code (human readable) --> machine code (machine readable)\n",
        "\n",
        "# Compiler\n",
        "    # 1. Translates at one go\n",
        "    # 2. Executable -\n",
        "    #     - windows = .exe\n",
        "    #     - mac = .app"
      ]
    },
    {
      "cell_type": "code",
      "execution_count": null,
      "id": "341f5f45-bed4-4bd2-bad3-aa83068885df",
      "metadata": {
        "id": "341f5f45-bed4-4bd2-bad3-aa83068885df"
      },
      "outputs": [],
      "source": [
        "# Python is a compiled + interpreted language\n",
        "\n",
        "# .py --> .pyc (byte code) --> can be understood by PVM (interpreter) across any machines\n",
        "# .pyc : PVM (any machine) --> converts into machine code (.exe = windows or .app = mac) and executes it\n",
        "\n",
        "# >>> import py_compile\n",
        "# >>> pycompile.compile(\"hello.py\")\n",
        "# byte code = .pyc will be generated"
      ]
    },
    {
      "cell_type": "markdown",
      "source": [
        "Adding link of Colab"
      ],
      "metadata": {
        "id": "xWqoGq3-8qiB"
      },
      "id": "xWqoGq3-8qiB"
    },
    {
      "cell_type": "code",
      "execution_count": null,
      "id": "05b41cdd-a34b-4f3e-8c70-3970f22d6fb1",
      "metadata": {
        "id": "05b41cdd-a34b-4f3e-8c70-3970f22d6fb1"
      },
      "outputs": [],
      "source": []
    }
  ],
  "metadata": {
    "kernelspec": {
      "display_name": "Python 3 (ipykernel)",
      "language": "python",
      "name": "python3"
    },
    "language_info": {
      "codemirror_mode": {
        "name": "ipython",
        "version": 3
      },
      "file_extension": ".py",
      "mimetype": "text/x-python",
      "name": "python",
      "nbconvert_exporter": "python",
      "pygments_lexer": "ipython3",
      "version": "3.12.4"
    },
    "colab": {
      "provenance": [],
      "include_colab_link": true
    }
  },
  "nbformat": 4,
  "nbformat_minor": 5
}