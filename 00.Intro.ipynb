{
 "cells": [
  {
   "cell_type": "code",
   "execution_count": 1,
   "id": "37eb1921-8639-437a-8c06-5a455c3eafea",
   "metadata": {},
   "outputs": [
    {
     "name": "stdout",
     "output_type": "stream",
     "text": [
      "Hello world\n"
     ]
    }
   ],
   "source": [
    "print(\"Hello world\")"
   ]
  },
  {
   "cell_type": "code",
   "execution_count": null,
   "id": "a4d61f3d-9bbb-4f34-b268-6d696a6ae7a6",
   "metadata": {},
   "outputs": [],
   "source": [
    "# Translator = It is a s/w that translates source code (human readable) --> machine code (machine readable)\n",
    "\n",
    "# Compiler \n",
    "    # 1. Translates at one go\n",
    "    # 2. Executable - \n",
    "    #     - windows = .exe\n",
    "    #     - mac = .app"
   ]
  },
  {
   "cell_type": "code",
   "execution_count": null,
   "id": "341f5f45-bed4-4bd2-bad3-aa83068885df",
   "metadata": {},
   "outputs": [],
   "source": [
    "# Python is a compiled + interpreted language\n",
    "\n",
    "# .py --> .pyc (byte code) --> can be understood by PVM (interpreter) across any machines\n",
    "# .pyc : PVM (any machine) --> converts into machine code (.exe = windows or .app = mac) and executes it\n",
    "\n",
    "# >>> import py_compile\n",
    "# >>> pycompile.compile(\"hello.py\")\n",
    "# byte code = .pyc will be generated"
   ]
  },
  {
   "cell_type": "code",
   "execution_count": null,
   "id": "05b41cdd-a34b-4f3e-8c70-3970f22d6fb1",
   "metadata": {},
   "outputs": [],
   "source": []
  }
 ],
 "metadata": {
  "kernelspec": {
   "display_name": "Python 3 (ipykernel)",
   "language": "python",
   "name": "python3"
  },
  "language_info": {
   "codemirror_mode": {
    "name": "ipython",
    "version": 3
   },
   "file_extension": ".py",
   "mimetype": "text/x-python",
   "name": "python",
   "nbconvert_exporter": "python",
   "pygments_lexer": "ipython3",
   "version": "3.12.4"
  }
 },
 "nbformat": 4,
 "nbformat_minor": 5
}
