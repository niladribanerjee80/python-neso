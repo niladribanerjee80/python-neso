{
 "cells": [
  {
   "cell_type": "markdown",
   "id": "af746540-7742-4fc5-bc9f-8445fa86819d",
   "metadata": {},
   "source": [
    "### Implicit type conversion"
   ]
  },
  {
   "cell_type": "code",
   "execution_count": 1,
   "id": "921fca8d-3e5c-46fb-a775-507184c415ba",
   "metadata": {},
   "outputs": [],
   "source": [
    "# Ability of python to convert an object from one datatype to another without any intervention\n",
    "\n",
    "# Rules of conversion\n",
    "\n",
    "    # 1. Lower datatype -> higher datatype [while performing any arithmetic operations etc.]\n",
    "    # 2. Division of two integers "
   ]
  },
  {
   "cell_type": "code",
   "execution_count": 2,
   "id": "93e4c98b-9e65-4271-bcaa-9887952b5eab",
   "metadata": {},
   "outputs": [],
   "source": [
    "# 1. Lower datatype -> higher datatype"
   ]
  },
  {
   "cell_type": "code",
   "execution_count": 4,
   "id": "a8a2eb50-439a-4c5d-8287-053dcefb4461",
   "metadata": {},
   "outputs": [
    {
     "data": {
      "text/plain": [
       "15.98"
      ]
     },
     "execution_count": 4,
     "metadata": {},
     "output_type": "execute_result"
    }
   ],
   "source": [
    "5 + 10.98 # if the lower to higher datatype conversion does not take place, we will lose precision"
   ]
  },
  {
   "cell_type": "code",
   "execution_count": 10,
   "id": "d0703d3f-4cf7-4050-b9af-707a811c172c",
   "metadata": {},
   "outputs": [
    {
     "data": {
      "text/html": [
       "<img src=\"Number_system.jpeg\" width=\"700\" height=\"700\"/>"
      ],
      "text/plain": [
       "<IPython.core.display.Image object>"
      ]
     },
     "execution_count": 10,
     "metadata": {},
     "output_type": "execute_result"
    }
   ],
   "source": [
    "# Look at what is lower datatype (int) and what is higher datatype (float) here\n",
    "from IPython.display import Image\n",
    "Image(url=\"Number_system.jpeg\", width=700, height=700)"
   ]
  },
  {
   "cell_type": "code",
   "execution_count": 11,
   "id": "068f5dc6-0e9c-4fb9-a1be-4b1d276a7c5f",
   "metadata": {},
   "outputs": [
    {
     "data": {
      "text/plain": [
       "5.0"
      ]
     },
     "execution_count": 11,
     "metadata": {},
     "output_type": "execute_result"
    }
   ],
   "source": [
    "# 2. Division of two integers\n",
    "10 / 2"
   ]
  },
  {
   "cell_type": "markdown",
   "id": "00d2d6bb-1a3d-412e-8ebf-e279f6a1f54c",
   "metadata": {},
   "source": [
    "### Explicit type conversion"
   ]
  },
  {
   "cell_type": "code",
   "execution_count": null,
   "id": "364c84d2-5dab-45e4-8e4e-b31be934a93e",
   "metadata": {},
   "outputs": [],
   "source": [
    "# Explicit type conversion using str()"
   ]
  },
  {
   "cell_type": "code",
   "execution_count": 12,
   "id": "0ff18c72-a01d-45ef-ae01-58594fcb50e0",
   "metadata": {},
   "outputs": [
    {
     "name": "stdout",
     "output_type": "stream",
     "text": [
      "The total is : 30\n"
     ]
    }
   ],
   "source": [
    "x = 10\n",
    "y = 20\n",
    "total = x + y\n",
    "print(\"The total is : \" +str(total)) \n",
    "\n",
    "# here total is integer which is required to be converted into str\n",
    "# + => concatenation operator acts on 2 operands that are str only"
   ]
  },
  {
   "cell_type": "code",
   "execution_count": 13,
   "id": "9ea25de2-39c1-4191-be29-ba85c42e21fb",
   "metadata": {},
   "outputs": [],
   "source": [
    "# Explicit type conversion using int()\n",
    "    # float -> int\n",
    "    # str (eligible) -> int\n",
    "    \n",
    "    # binary -> int\n",
    "    # octal -> int\n",
    "    # hexadecimal -> int"
   ]
  },
  {
   "cell_type": "code",
   "execution_count": 15,
   "id": "600b038e-8162-4a52-bdac-4c8c63fd8219",
   "metadata": {},
   "outputs": [
    {
     "data": {
      "text/plain": [
       "10"
      ]
     },
     "execution_count": 15,
     "metadata": {},
     "output_type": "execute_result"
    }
   ],
   "source": [
    "# float -> int\n",
    "int(10.87)"
   ]
  },
  {
   "cell_type": "code",
   "execution_count": 20,
   "id": "6345ad5e-b82e-4c00-9c89-5f3d11f2c29b",
   "metadata": {},
   "outputs": [
    {
     "name": "stdout",
     "output_type": "stream",
     "text": [
      "<class 'int'>\n"
     ]
    },
    {
     "data": {
      "text/plain": [
       "453"
      ]
     },
     "execution_count": 20,
     "metadata": {},
     "output_type": "execute_result"
    }
   ],
   "source": [
    "# str (eligible) -> int\n",
    "x = int('453')\n",
    "print(type(x))\n",
    "x"
   ]
  },
  {
   "cell_type": "code",
   "execution_count": 21,
   "id": "86b2967e-1628-4bc9-ad8d-da695146eba4",
   "metadata": {},
   "outputs": [
    {
     "data": {
      "text/plain": [
       "6"
      ]
     },
     "execution_count": 21,
     "metadata": {},
     "output_type": "execute_result"
    }
   ],
   "source": [
    "# binary -> int\n",
    "binary_val = '110'\n",
    "base = 2\n",
    "int_val = int(binary_val,base)\n",
    "int_val"
   ]
  },
  {
   "cell_type": "code",
   "execution_count": 24,
   "id": "91a52bf6-e785-41db-9bd6-73228380e0ff",
   "metadata": {},
   "outputs": [
    {
     "data": {
      "text/plain": [
       "162"
      ]
     },
     "execution_count": 24,
     "metadata": {},
     "output_type": "execute_result"
    }
   ],
   "source": [
    "# octal -> int\n",
    "octal_val = '242'\n",
    "base = 8\n",
    "int_val = int(octal_val,base)\n",
    "int_val"
   ]
  },
  {
   "cell_type": "code",
   "execution_count": 25,
   "id": "d0bb8b97-4272-4936-be60-a0f98cd5d61d",
   "metadata": {},
   "outputs": [
    {
     "data": {
      "text/plain": [
       "578"
      ]
     },
     "execution_count": 25,
     "metadata": {},
     "output_type": "execute_result"
    }
   ],
   "source": [
    "# hexadecimal -> int\n",
    "hex_val = 'ff'\n",
    "base = 16\n",
    "int_val = int(octal_val,base)\n",
    "int_val"
   ]
  },
  {
   "cell_type": "code",
   "execution_count": 7,
   "id": "679c29f6-94b1-40ab-8c3c-a54dfbb0b0f3",
   "metadata": {},
   "outputs": [],
   "source": [
    "# Explicit type conversion using float()\n",
    "# def : convert one datatype -> float using user intervention if the source is eligible"
   ]
  },
  {
   "cell_type": "code",
   "execution_count": 2,
   "id": "a4a9cc1e-a564-4595-a411-718658e77f8b",
   "metadata": {},
   "outputs": [
    {
     "data": {
      "text/plain": [
       "str"
      ]
     },
     "execution_count": 2,
     "metadata": {},
     "output_type": "execute_result"
    }
   ],
   "source": [
    "x = '12.78'\n",
    "type(x)"
   ]
  },
  {
   "cell_type": "code",
   "execution_count": 3,
   "id": "9755e1ff-9200-440a-b17b-02b766ada3c2",
   "metadata": {},
   "outputs": [
    {
     "data": {
      "text/plain": [
       "12.78"
      ]
     },
     "execution_count": 3,
     "metadata": {},
     "output_type": "execute_result"
    }
   ],
   "source": [
    "x = float(x)\n",
    "x"
   ]
  },
  {
   "cell_type": "code",
   "execution_count": 4,
   "id": "97fec368-f8f9-43fa-9557-99c2cc726a5d",
   "metadata": {},
   "outputs": [
    {
     "data": {
      "text/plain": [
       "float"
      ]
     },
     "execution_count": 4,
     "metadata": {},
     "output_type": "execute_result"
    }
   ],
   "source": [
    "type(x)"
   ]
  },
  {
   "cell_type": "code",
   "execution_count": 6,
   "id": "f8afa5ed-888a-4f6e-ab30-f00dd656a1a6",
   "metadata": {},
   "outputs": [
    {
     "data": {
      "text/plain": [
       "78.9"
      ]
     },
     "execution_count": 6,
     "metadata": {},
     "output_type": "execute_result"
    }
   ],
   "source": [
    "z = '0078.90'\n",
    "z = float(z)\n",
    "z"
   ]
  },
  {
   "cell_type": "code",
   "execution_count": null,
   "id": "8558f744-de2b-4612-adfe-9a222e4bae03",
   "metadata": {},
   "outputs": [],
   "source": []
  }
 ],
 "metadata": {
  "kernelspec": {
   "display_name": "Python 3 (ipykernel)",
   "language": "python",
   "name": "python3"
  },
  "language_info": {
   "codemirror_mode": {
    "name": "ipython",
    "version": 3
   },
   "file_extension": ".py",
   "mimetype": "text/x-python",
   "name": "python",
   "nbconvert_exporter": "python",
   "pygments_lexer": "ipython3",
   "version": "3.12.4"
  }
 },
 "nbformat": 4,
 "nbformat_minor": 5
}
