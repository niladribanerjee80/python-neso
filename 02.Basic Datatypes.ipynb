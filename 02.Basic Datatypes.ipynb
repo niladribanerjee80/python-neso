{
  "cells": [
    {
      "cell_type": "markdown",
      "metadata": {
        "id": "view-in-github",
        "colab_type": "text"
      },
      "source": [
        "<a href=\"https://colab.research.google.com/github/niladribanerjee80/python-neso/blob/main/02.Basic%20Datatypes.ipynb\" target=\"_parent\"><img src=\"https://colab.research.google.com/assets/colab-badge.svg\" alt=\"Open In Colab\"/></a>"
      ]
    },
    {
      "cell_type": "code",
      "execution_count": null,
      "id": "a197d557-d063-4b6d-9e45-7283df43f848",
      "metadata": {
        "id": "a197d557-d063-4b6d-9e45-7283df43f848"
      },
      "outputs": [],
      "source": [
        "# Topics\n",
        "#     1. Integer\n",
        "#     2. Floating Point\n",
        "#     3. Boolean\n",
        "#     4. String"
      ]
    },
    {
      "cell_type": "code",
      "execution_count": null,
      "id": "b6ac3c50-91fa-4f71-9fb3-f76a7888a43a",
      "metadata": {
        "id": "b6ac3c50-91fa-4f71-9fb3-f76a7888a43a"
      },
      "outputs": [],
      "source": [
        "# Number system\n",
        "\n",
        "# Real Number (R)\n",
        "\n",
        "#     - With decimal\n",
        "#         - Terminating | e.g. - 1.12 | Q = Rational\n",
        "#         - Non-Terminating\n",
        "#             - Repeating | e.g. - 1.121212121212 | Q = Rational\n",
        "#             - Non-Repeating | e.g. - 3.14567 (pi), e etc. | T = Irrational\n",
        "\n",
        "#     - Without decimal\n",
        "#         - Integers | e.g. -12, -15, 0, 145644 | Z = Z-, 0, Z+ | Q = Rational\n",
        "#             - Whole numbers | e.g. 0,1,2,3,4....  | Z+\n",
        "#             - Negative integers | e.g. -1,-45 ... | Z-"
      ]
    },
    {
      "cell_type": "markdown",
      "id": "487b7dc6-faae-4f93-8858-017596f3db76",
      "metadata": {
        "id": "487b7dc6-faae-4f93-8858-017596f3db76"
      },
      "source": [
        "### Number Systems"
      ]
    },
    {
      "cell_type": "code",
      "execution_count": null,
      "id": "eebcbe87-9e77-43a7-86b0-64b2da60a862",
      "metadata": {
        "id": "eebcbe87-9e77-43a7-86b0-64b2da60a862"
      },
      "outputs": [],
      "source": [
        "# Number systems in Python\n",
        "    # 1. Decimal\n",
        "        # - Integer\n",
        "        # - Floating Point\n",
        "    # 2. Binary\n",
        "    # 3. Octal\n",
        "    # 4. Hexadecimal"
      ]
    },
    {
      "cell_type": "markdown",
      "id": "239f1ad2-784e-4436-a0bb-360025bb8397",
      "metadata": {
        "id": "239f1ad2-784e-4436-a0bb-360025bb8397"
      },
      "source": [
        "### Decimal - > binary, octal and hexadecimal"
      ]
    },
    {
      "cell_type": "code",
      "execution_count": null,
      "id": "0ddc8d7f-02be-4f99-a394-22acbb79d10d",
      "metadata": {
        "id": "0ddc8d7f-02be-4f99-a394-22acbb79d10d"
      },
      "outputs": [],
      "source": [
        "# Decimal to Binary\n",
        "# syntax : bin(decimal value)"
      ]
    },
    {
      "cell_type": "code",
      "execution_count": null,
      "id": "d98e79b3-7cb5-4b60-8de3-d457fae40a29",
      "metadata": {
        "id": "d98e79b3-7cb5-4b60-8de3-d457fae40a29",
        "outputId": "47b284c9-aab6-438b-c9c7-0272f60efa31"
      },
      "outputs": [
        {
          "data": {
            "text/plain": [
              "'0b1111101'"
            ]
          },
          "execution_count": 9,
          "metadata": {},
          "output_type": "execute_result"
        }
      ],
      "source": [
        "bin(125)"
      ]
    },
    {
      "cell_type": "code",
      "execution_count": null,
      "id": "5778abe4-9d04-487b-94b2-fe8b91f6565d",
      "metadata": {
        "id": "5778abe4-9d04-487b-94b2-fe8b91f6565d",
        "outputId": "af089bcc-a621-40a6-e13b-668a3be032b6"
      },
      "outputs": [
        {
          "data": {
            "text/plain": [
              "'1111101'"
            ]
          },
          "execution_count": 12,
          "metadata": {},
          "output_type": "execute_result"
        }
      ],
      "source": [
        "# what if we don't want the 0b\n",
        "format(125,'b')"
      ]
    },
    {
      "cell_type": "code",
      "execution_count": null,
      "id": "714a8deb-9f78-43e6-9de3-98c71492c55f",
      "metadata": {
        "id": "714a8deb-9f78-43e6-9de3-98c71492c55f"
      },
      "outputs": [],
      "source": [
        "# Decimal to Octal\n",
        "# syntax : oct(decimal value)"
      ]
    },
    {
      "cell_type": "code",
      "execution_count": null,
      "id": "53a06255-a639-4800-8526-2dc5f2fd4059",
      "metadata": {
        "id": "53a06255-a639-4800-8526-2dc5f2fd4059",
        "outputId": "7387d755-50ca-4ed6-9800-d87a1650b7fe"
      },
      "outputs": [
        {
          "data": {
            "text/plain": [
              "'0o175'"
            ]
          },
          "execution_count": 11,
          "metadata": {},
          "output_type": "execute_result"
        }
      ],
      "source": [
        "oct(125)"
      ]
    },
    {
      "cell_type": "code",
      "execution_count": null,
      "id": "2220f8d7-d88a-43bf-b560-0202b75c4b87",
      "metadata": {
        "id": "2220f8d7-d88a-43bf-b560-0202b75c4b87"
      },
      "outputs": [],
      "source": [
        "# Decimal to hexadecimal\n",
        "# syntax : hex(decimal value)"
      ]
    },
    {
      "cell_type": "code",
      "execution_count": null,
      "id": "75996ff1-dc24-42b1-8578-7c52a420b10f",
      "metadata": {
        "id": "75996ff1-dc24-42b1-8578-7c52a420b10f",
        "outputId": "7c9a236d-d6dc-4fa2-baac-6025d9274d4c"
      },
      "outputs": [
        {
          "data": {
            "text/plain": [
              "'0xff'"
            ]
          },
          "execution_count": 14,
          "metadata": {},
          "output_type": "execute_result"
        }
      ],
      "source": [
        "hex(255)"
      ]
    },
    {
      "cell_type": "markdown",
      "id": "d1a8c95a-f940-44a4-ab8c-21c7252acee1",
      "metadata": {
        "id": "d1a8c95a-f940-44a4-ab8c-21c7252acee1"
      },
      "source": [
        "### Binary, hexadecimal and Octal - > Decimal"
      ]
    },
    {
      "cell_type": "code",
      "execution_count": null,
      "id": "c19a836c-8491-43bb-976a-8f179fdeb5a4",
      "metadata": {
        "id": "c19a836c-8491-43bb-976a-8f179fdeb5a4",
        "outputId": "fc18a6a6-5908-4b31-cd5a-6e73bb889faa"
      },
      "outputs": [
        {
          "data": {
            "text/plain": [
              "147"
            ]
          },
          "execution_count": 17,
          "metadata": {},
          "output_type": "execute_result"
        }
      ],
      "source": [
        "# Binary to Decimal\n",
        "binary_value = '0b10010011'\n",
        "base = 2\n",
        "\n",
        "decimal_value = int(binary_value,base)\n",
        "decimal_value"
      ]
    },
    {
      "cell_type": "code",
      "execution_count": null,
      "id": "1f891c01-6ede-4144-9253-bc1c06f6819c",
      "metadata": {
        "id": "1f891c01-6ede-4144-9253-bc1c06f6819c",
        "outputId": "02e01ab0-a4b9-4507-b808-450cd9ba077f"
      },
      "outputs": [
        {
          "data": {
            "text/plain": [
              "58"
            ]
          },
          "execution_count": 20,
          "metadata": {},
          "output_type": "execute_result"
        }
      ],
      "source": [
        "# Octal to Decimal\n",
        "octal_value = '0o72'\n",
        "base = 8\n",
        "\n",
        "decimal_value = int(octal_value,base)\n",
        "decimal_value"
      ]
    },
    {
      "cell_type": "code",
      "execution_count": null,
      "id": "9c447fe4-1e9c-4e43-acfc-f2cf0ba55d32",
      "metadata": {
        "id": "9c447fe4-1e9c-4e43-acfc-f2cf0ba55d32",
        "outputId": "7b6bb9ff-7f2a-43b4-ec2f-ab15cd0a2482"
      },
      "outputs": [
        {
          "data": {
            "text/plain": [
              "255"
            ]
          },
          "execution_count": 21,
          "metadata": {},
          "output_type": "execute_result"
        }
      ],
      "source": [
        "# Hex to Decimal\n",
        "hex_value = '0xff'\n",
        "base = 16\n",
        "\n",
        "decimal_value = int(hex_value,base)\n",
        "decimal_value"
      ]
    },
    {
      "cell_type": "markdown",
      "id": "83f1ec19-c390-4971-b913-4123dc513320",
      "metadata": {
        "id": "83f1ec19-c390-4971-b913-4123dc513320"
      },
      "source": [
        "### Floating Point"
      ]
    },
    {
      "cell_type": "code",
      "execution_count": null,
      "id": "74fec7e6-4df3-49d4-94d5-6a3f14b8e356",
      "metadata": {
        "id": "74fec7e6-4df3-49d4-94d5-6a3f14b8e356",
        "outputId": "fde3928d-1e23-4d9c-fb09-c6051e1032ec"
      },
      "outputs": [
        {
          "data": {
            "text/plain": [
              "1.73"
            ]
          },
          "execution_count": 22,
          "metadata": {},
          "output_type": "execute_result"
        }
      ],
      "source": [
        "1.73"
      ]
    },
    {
      "cell_type": "code",
      "execution_count": null,
      "id": "c4ed526a-bc8e-43d9-8665-1c5ef285a835",
      "metadata": {
        "id": "c4ed526a-bc8e-43d9-8665-1c5ef285a835",
        "outputId": "a2d7529f-74d8-4311-c3ab-636f013c7178"
      },
      "outputs": [
        {
          "data": {
            "text/plain": [
              "173000.0"
            ]
          },
          "execution_count": 23,
          "metadata": {},
          "output_type": "execute_result"
        }
      ],
      "source": [
        "1.73e5"
      ]
    },
    {
      "cell_type": "code",
      "execution_count": null,
      "id": "0bf3049f-83e2-4409-bed5-83d15927d25a",
      "metadata": {
        "id": "0bf3049f-83e2-4409-bed5-83d15927d25a",
        "outputId": "98be9568-d7f7-4a86-9599-a8b684e5065c"
      },
      "outputs": [
        {
          "data": {
            "text/plain": [
              "0.0173"
            ]
          },
          "execution_count": 25,
          "metadata": {},
          "output_type": "execute_result"
        }
      ],
      "source": [
        "1.73e-2"
      ]
    },
    {
      "cell_type": "code",
      "execution_count": null,
      "id": "69625a06-60cf-484d-85b0-2fd37897b6ab",
      "metadata": {
        "id": "69625a06-60cf-484d-85b0-2fd37897b6ab",
        "outputId": "53fe8a7d-4764-435e-be5e-8122b4dee8a8"
      },
      "outputs": [
        {
          "data": {
            "text/plain": [
              "5.551115123125783e-17"
            ]
          },
          "execution_count": 27,
          "metadata": {},
          "output_type": "execute_result"
        }
      ],
      "source": [
        "# Why the below is not 0 ?\n",
        "0.1+0.2-0.3"
      ]
    },
    {
      "cell_type": "markdown",
      "id": "512e62da-d4f0-4f6e-b1e4-44d63d01e1c7",
      "metadata": {
        "id": "512e62da-d4f0-4f6e-b1e4-44d63d01e1c7"
      },
      "source": [
        "### Boolean"
      ]
    },
    {
      "cell_type": "code",
      "execution_count": null,
      "id": "f04fc03c-228c-4612-bc26-f9b635dd375b",
      "metadata": {
        "id": "f04fc03c-228c-4612-bc26-f9b635dd375b"
      },
      "outputs": [],
      "source": [
        "# represents either True or False\n",
        "# All condition checks use boolean"
      ]
    },
    {
      "cell_type": "code",
      "execution_count": null,
      "id": "0383a7ef-792e-4f21-a5ed-79bc935c752c",
      "metadata": {
        "id": "0383a7ef-792e-4f21-a5ed-79bc935c752c",
        "outputId": "d7408cfd-e995-46d1-b771-3f8a1ebf7eac"
      },
      "outputs": [
        {
          "name": "stdout",
          "output_type": "stream",
          "text": [
            "Hello Sam !\n"
          ]
        }
      ],
      "source": [
        "name = \"Sam\"\n",
        "\n",
        "if name == \"Sam\":\n",
        "    print(\"Hello Sam !\") # condition is checking to be true\n",
        "else:\n",
        "    print(\"Hello dude !\")"
      ]
    },
    {
      "cell_type": "markdown",
      "id": "255e5b0c-cf60-4909-96a3-d07f3deb62c2",
      "metadata": {
        "id": "255e5b0c-cf60-4909-96a3-d07f3deb62c2"
      },
      "source": [
        "### Variables"
      ]
    },
    {
      "cell_type": "code",
      "execution_count": null,
      "id": "e5aa41ef-ac23-4484-8eba-4cdcda24abaf",
      "metadata": {
        "id": "e5aa41ef-ac23-4484-8eba-4cdcda24abaf"
      },
      "outputs": [],
      "source": [
        "# label given to an object\n",
        "# not a memory location like in C\n",
        "\n",
        "# syntax : variable_name = object\n",
        "\n",
        "# every data item = > object in python\n",
        "# object = > data + properties + behavior\n",
        "# object = > blueprint of class"
      ]
    },
    {
      "cell_type": "code",
      "execution_count": null,
      "id": "c98703aa-5f28-4559-b18a-81c76242a75f",
      "metadata": {
        "id": "c98703aa-5f28-4559-b18a-81c76242a75f"
      },
      "outputs": [],
      "source": [
        "x = 10\n",
        "y = x # no new memory location is being created for y."
      ]
    },
    {
      "cell_type": "code",
      "execution_count": null,
      "id": "d9f79e5e-3eda-4df2-bdef-1e6dcfd34935",
      "metadata": {
        "id": "d9f79e5e-3eda-4df2-bdef-1e6dcfd34935",
        "outputId": "71a6f146-5405-4bfc-dadb-5057ed491fce"
      },
      "outputs": [
        {
          "data": {
            "text/plain": [
              "10"
            ]
          },
          "execution_count": 35,
          "metadata": {},
          "output_type": "execute_result"
        }
      ],
      "source": [
        "x"
      ]
    },
    {
      "cell_type": "code",
      "execution_count": null,
      "id": "cde987d3-cbb8-444d-8bbe-77c78ce648ed",
      "metadata": {
        "id": "cde987d3-cbb8-444d-8bbe-77c78ce648ed",
        "outputId": "096dc7a5-4aa0-4d77-8f0f-4d6f1c45cce0"
      },
      "outputs": [
        {
          "data": {
            "text/plain": [
              "10"
            ]
          },
          "execution_count": 36,
          "metadata": {},
          "output_type": "execute_result"
        }
      ],
      "source": [
        "y"
      ]
    },
    {
      "cell_type": "markdown",
      "id": "f6c75a9a-8ed1-43d3-aa27-8cec524bdc58",
      "metadata": {
        "id": "f6c75a9a-8ed1-43d3-aa27-8cec524bdc58"
      },
      "source": [
        "### String"
      ]
    },
    {
      "cell_type": "code",
      "execution_count": null,
      "id": "8d0b1bd8-f636-4613-902e-2e59ad429537",
      "metadata": {
        "id": "8d0b1bd8-f636-4613-902e-2e59ad429537"
      },
      "outputs": [],
      "source": [
        "# sequence of characters enclosed within single or double quotes"
      ]
    },
    {
      "cell_type": "code",
      "execution_count": null,
      "id": "cfe4d062-8370-4814-95e5-5eb99048f47a",
      "metadata": {
        "id": "cfe4d062-8370-4814-95e5-5eb99048f47a",
        "outputId": "acfbe9ac-0b99-4a7d-c349-6854293989cc"
      },
      "outputs": [
        {
          "data": {
            "text/plain": [
              "'Hello World'"
            ]
          },
          "execution_count": 32,
          "metadata": {},
          "output_type": "execute_result"
        }
      ],
      "source": [
        "\"Hello World\""
      ]
    },
    {
      "cell_type": "code",
      "execution_count": null,
      "id": "0f4ddb69-b840-4ebc-ae90-fbb50aadb00b",
      "metadata": {
        "id": "0f4ddb69-b840-4ebc-ae90-fbb50aadb00b"
      },
      "outputs": [],
      "source": [
        "name = \"Niladri\""
      ]
    },
    {
      "cell_type": "code",
      "execution_count": null,
      "id": "0e5d42bd-c11f-4bdd-8acd-b8a9c242003c",
      "metadata": {
        "id": "0e5d42bd-c11f-4bdd-8acd-b8a9c242003c",
        "outputId": "038b4181-0c13-46d8-e06b-c872bbfe372c"
      },
      "outputs": [
        {
          "data": {
            "text/plain": [
              "'Niladri'"
            ]
          },
          "execution_count": 38,
          "metadata": {},
          "output_type": "execute_result"
        }
      ],
      "source": [
        "name"
      ]
    },
    {
      "cell_type": "code",
      "execution_count": null,
      "id": "391b6c7b-3e56-4eba-b102-2428e5ad1df0",
      "metadata": {
        "id": "391b6c7b-3e56-4eba-b102-2428e5ad1df0"
      },
      "outputs": [],
      "source": [
        "# Rules of using single and double quotes\n",
        "    # when you need to use double quotes within the string, use single quotes outside\n",
        "    # when you need to use single quotes within the string, use double quotes outside"
      ]
    },
    {
      "cell_type": "code",
      "execution_count": null,
      "id": "3d2ad837-1f64-40ba-b78c-287e83efe711",
      "metadata": {
        "id": "3d2ad837-1f64-40ba-b78c-287e83efe711",
        "outputId": "e2528494-133e-4a63-c07b-ec642171a50d"
      },
      "outputs": [
        {
          "data": {
            "text/plain": [
              "\"The language 'Python' is named after Monty Python\""
            ]
          },
          "execution_count": 39,
          "metadata": {},
          "output_type": "execute_result"
        }
      ],
      "source": [
        "# how to use single quotes within double quotes\n",
        "statement = \"The language 'Python' is named after Monty Python\"\n",
        "statement"
      ]
    },
    {
      "cell_type": "code",
      "execution_count": null,
      "id": "2efa9bf9-29bf-459e-bd29-84a2aa1365c8",
      "metadata": {
        "id": "2efa9bf9-29bf-459e-bd29-84a2aa1365c8",
        "outputId": "78218d04-73da-40c8-94f8-1a676726afad"
      },
      "outputs": [
        {
          "ename": "SyntaxError",
          "evalue": "unterminated string literal (detected at line 2) (3425541288.py, line 2)",
          "output_type": "error",
          "traceback": [
            "\u001b[0;36m  Cell \u001b[0;32mIn[43], line 2\u001b[0;36m\u001b[0m\n\u001b[0;31m    stmt = 'Hello ! \"I am Niladri\" How's is your mother?'\u001b[0m\n\u001b[0m                                                        ^\u001b[0m\n\u001b[0;31mSyntaxError\u001b[0m\u001b[0;31m:\u001b[0m unterminated string literal (detected at line 2)\n"
          ]
        }
      ],
      "source": [
        "# when and how to use escape\n",
        "stmt = 'Hello ! \"I am Niladri\" How's is your mother?'\n",
        "stmt"
      ]
    },
    {
      "cell_type": "code",
      "execution_count": null,
      "id": "cfe51d50-f258-4b08-aff9-de1ee09e16c6",
      "metadata": {
        "id": "cfe51d50-f258-4b08-aff9-de1ee09e16c6",
        "outputId": "74b1a265-925e-4ae1-8684-8124ec27f7a9"
      },
      "outputs": [
        {
          "data": {
            "text/plain": [
              "'Hello ! \"I am Niladri\" How\\'s is your mother?'"
            ]
          },
          "execution_count": 44,
          "metadata": {},
          "output_type": "execute_result"
        }
      ],
      "source": [
        "stmt = 'Hello ! \\\"I am Niladri\\\" How\\'s is your mother?'\n",
        "stmt"
      ]
    },
    {
      "cell_type": "code",
      "execution_count": null,
      "id": "82938aa4-b72a-44a5-9fed-71403a487ccf",
      "metadata": {
        "id": "82938aa4-b72a-44a5-9fed-71403a487ccf"
      },
      "outputs": [],
      "source": [
        "# Multi-line string\n",
        "    # enclose within triple\n",
        "        # - single or double quotes"
      ]
    },
    {
      "cell_type": "code",
      "execution_count": null,
      "id": "90c6b23c-ddba-4eef-8f5f-a4319e4ed383",
      "metadata": {
        "id": "90c6b23c-ddba-4eef-8f5f-a4319e4ed383"
      },
      "outputs": [],
      "source": [
        "multi_line_comment = '''This is a\n",
        "multiple lines\n",
        "comment'''"
      ]
    },
    {
      "cell_type": "code",
      "execution_count": null,
      "id": "5bc442d4-aa0d-4306-91e0-247369f3bc54",
      "metadata": {
        "id": "5bc442d4-aa0d-4306-91e0-247369f3bc54",
        "outputId": "e826959a-d9a6-473c-ebc1-7e88a27362a0"
      },
      "outputs": [
        {
          "data": {
            "text/plain": [
              "'This is a \\nmultiple lines\\ncomment'"
            ]
          },
          "execution_count": 54,
          "metadata": {},
          "output_type": "execute_result"
        }
      ],
      "source": [
        "multi_line_comment"
      ]
    },
    {
      "cell_type": "code",
      "execution_count": null,
      "id": "1d385c41-6356-4f79-896d-49b0f078ddcf",
      "metadata": {
        "id": "1d385c41-6356-4f79-896d-49b0f078ddcf"
      },
      "outputs": [],
      "source": [
        "multi_line_comment = \"\"\"This is a\n",
        "multiple lines\n",
        "comment\"\"\""
      ]
    },
    {
      "cell_type": "code",
      "execution_count": null,
      "id": "fc7fd6d7-9c9f-4d06-968d-270d8b823b81",
      "metadata": {
        "id": "fc7fd6d7-9c9f-4d06-968d-270d8b823b81",
        "outputId": "5480cb7e-8aed-4764-8381-a7cf874813ed"
      },
      "outputs": [
        {
          "data": {
            "text/plain": [
              "'This is a \\nmultiple lines\\ncomment'"
            ]
          },
          "execution_count": 56,
          "metadata": {},
          "output_type": "execute_result"
        }
      ],
      "source": [
        "multi_line_comment"
      ]
    },
    {
      "cell_type": "code",
      "execution_count": null,
      "id": "1c420f64-3ae0-4e02-85cd-632951f507e9",
      "metadata": {
        "id": "1c420f64-3ae0-4e02-85cd-632951f507e9"
      },
      "outputs": [],
      "source": []
    },
    {
      "cell_type": "markdown",
      "source": [
        "Adding link of Colab"
      ],
      "metadata": {
        "id": "yTM1qcgm9Bz4"
      },
      "id": "yTM1qcgm9Bz4"
    },
    {
      "cell_type": "code",
      "source": [],
      "metadata": {
        "id": "jgyu2aO79CX6"
      },
      "id": "jgyu2aO79CX6",
      "execution_count": null,
      "outputs": []
    }
  ],
  "metadata": {
    "kernelspec": {
      "display_name": "Python 3 (ipykernel)",
      "language": "python",
      "name": "python3"
    },
    "language_info": {
      "codemirror_mode": {
        "name": "ipython",
        "version": 3
      },
      "file_extension": ".py",
      "mimetype": "text/x-python",
      "name": "python",
      "nbconvert_exporter": "python",
      "pygments_lexer": "ipython3",
      "version": "3.12.4"
    },
    "colab": {
      "provenance": [],
      "include_colab_link": true
    }
  },
  "nbformat": 4,
  "nbformat_minor": 5
}