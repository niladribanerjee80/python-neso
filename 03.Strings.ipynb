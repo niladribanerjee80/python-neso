{
 "cells": [
  {
   "cell_type": "markdown",
   "id": "47b6aab8-56eb-41a2-bf74-1c4488281c76",
   "metadata": {},
   "source": [
    "### Accessing String characters"
   ]
  },
  {
   "cell_type": "code",
   "execution_count": 1,
   "id": "0e039738-cbac-451b-8740-98c2665ec06a",
   "metadata": {},
   "outputs": [],
   "source": [
    "word = \"HELLO\""
   ]
  },
  {
   "cell_type": "code",
   "execution_count": 2,
   "id": "07cd6fed-e918-4cdd-9594-6190f74284e0",
   "metadata": {},
   "outputs": [
    {
     "data": {
      "text/plain": [
       "'H'"
      ]
     },
     "execution_count": 2,
     "metadata": {},
     "output_type": "execute_result"
    }
   ],
   "source": [
    "word[0]"
   ]
  },
  {
   "cell_type": "code",
   "execution_count": 3,
   "id": "918fdc08-68b7-42d7-acb1-c401875e421c",
   "metadata": {},
   "outputs": [
    {
     "data": {
      "text/plain": [
       "'E'"
      ]
     },
     "execution_count": 3,
     "metadata": {},
     "output_type": "execute_result"
    }
   ],
   "source": [
    "word[1]"
   ]
  },
  {
   "cell_type": "code",
   "execution_count": 6,
   "id": "d48fe0b4-40df-476a-a1b6-4826b10a69d2",
   "metadata": {},
   "outputs": [
    {
     "name": "stdout",
     "output_type": "stream",
     "text": [
      "Index :  0  :  H\n",
      "Index :  1  :  E\n",
      "Index :  2  :  L\n",
      "Index :  3  :  L\n",
      "Index :  4  :  O\n"
     ]
    }
   ],
   "source": [
    "word = \"HELLO\"\n",
    "index = 0\n",
    "for char in word:\n",
    "    print(\"Index : \",index,\" : \",char)\n",
    "    index = index + 1"
   ]
  },
  {
   "cell_type": "code",
   "execution_count": 7,
   "id": "a3c2a12f-69b3-4f9d-8150-f67b332d72c5",
   "metadata": {},
   "outputs": [
    {
     "data": {
      "text/plain": [
       "'HELLO'"
      ]
     },
     "execution_count": 7,
     "metadata": {},
     "output_type": "execute_result"
    }
   ],
   "source": [
    "word[0:]"
   ]
  },
  {
   "cell_type": "markdown",
   "id": "5a35b0d7-6668-46d1-9076-d2c23bf0b839",
   "metadata": {},
   "source": [
    "### Accessing string from last"
   ]
  },
  {
   "cell_type": "code",
   "execution_count": 8,
   "id": "2d09bea8-d9d3-4bf3-8891-0b43fcad4bec",
   "metadata": {},
   "outputs": [],
   "source": [
    "word = \"HELLO\""
   ]
  },
  {
   "cell_type": "code",
   "execution_count": 9,
   "id": "aa26d5fb-f622-4d9b-8b52-d2ff8f1da206",
   "metadata": {},
   "outputs": [
    {
     "data": {
      "text/plain": [
       "'O'"
      ]
     },
     "execution_count": 9,
     "metadata": {},
     "output_type": "execute_result"
    }
   ],
   "source": [
    "word[-1]"
   ]
  },
  {
   "cell_type": "code",
   "execution_count": 10,
   "id": "4115279b-9320-4f75-8950-50a59a43f664",
   "metadata": {},
   "outputs": [
    {
     "data": {
      "text/plain": [
       "'L'"
      ]
     },
     "execution_count": 10,
     "metadata": {},
     "output_type": "execute_result"
    }
   ],
   "source": [
    "word[-2]"
   ]
  },
  {
   "cell_type": "code",
   "execution_count": 19,
   "id": "fb291e68-479d-49d6-b739-c5306400a163",
   "metadata": {},
   "outputs": [
    {
     "name": "stdout",
     "output_type": "stream",
     "text": [
      "Index :  -1  :  O\n",
      "Index :  -2  :  L\n",
      "Index :  -3  :  L\n",
      "Index :  -4  :  E\n",
      "Index :  -5  :  H\n"
     ]
    }
   ],
   "source": [
    "word = \"HELLO\"\n",
    "index = -1\n",
    "for char in word:\n",
    "    print(\"Index : \",index,\" : \",word[index])\n",
    "    index = index - 1"
   ]
  },
  {
   "cell_type": "markdown",
   "id": "da307cc6-0479-4ab0-803d-b1409a5a4e3d",
   "metadata": {},
   "source": [
    "### Access substring of a string"
   ]
  },
  {
   "cell_type": "code",
   "execution_count": 21,
   "id": "b1ee2ad3-31a2-4781-9c2e-48861b02e504",
   "metadata": {},
   "outputs": [],
   "source": [
    "# range of characters can be accessed using slicing\n",
    "# syntax : variable [start_index : end_index - but not including) : step_size]"
   ]
  },
  {
   "cell_type": "code",
   "execution_count": 52,
   "id": "3b2845bd-77e8-41ed-8393-7e88ea526f37",
   "metadata": {},
   "outputs": [],
   "source": [
    "word = \"HELLO\""
   ]
  },
  {
   "cell_type": "code",
   "execution_count": 18,
   "id": "64429def-b59c-45c5-aa51-e237cee559bb",
   "metadata": {},
   "outputs": [
    {
     "name": "stdout",
     "output_type": "stream",
     "text": [
      "Index :  0  :  H\n",
      "Index :  1  :  E\n",
      "Index :  2  :  L\n",
      "Index :  3  :  L\n",
      "Index :  4  :  O\n"
     ]
    }
   ],
   "source": [
    "word = \"HELLO\"\n",
    "index = 0\n",
    "for char in word:\n",
    "    print(\"Index : \",index,\" : \",char)\n",
    "    index = index + 1"
   ]
  },
  {
   "cell_type": "code",
   "execution_count": 17,
   "id": "f15fc93c-d796-4803-bcad-8a0d509e9590",
   "metadata": {},
   "outputs": [
    {
     "data": {
      "text/plain": [
       "'ELL'"
      ]
     },
     "execution_count": 17,
     "metadata": {},
     "output_type": "execute_result"
    }
   ],
   "source": [
    "word[1:4]"
   ]
  },
  {
   "cell_type": "code",
   "execution_count": 20,
   "id": "d8a1e2d7-13af-42d5-a7ff-1910ce44333b",
   "metadata": {},
   "outputs": [
    {
     "data": {
      "text/plain": [
       "'ELL'"
      ]
     },
     "execution_count": 20,
     "metadata": {},
     "output_type": "execute_result"
    }
   ],
   "source": [
    "word[-4:-1]"
   ]
  },
  {
   "cell_type": "code",
   "execution_count": 53,
   "id": "8c9d002b-dc51-4612-9da5-799f990a0898",
   "metadata": {},
   "outputs": [
    {
     "data": {
      "text/plain": [
       "'OLLEH'"
      ]
     },
     "execution_count": 53,
     "metadata": {},
     "output_type": "execute_result"
    }
   ],
   "source": [
    "# reverse a string\n",
    "word[::-1]"
   ]
  },
  {
   "cell_type": "markdown",
   "id": "e76750fa-dd3b-4f65-9076-0f15f68be74b",
   "metadata": {},
   "source": [
    "### String Slicing"
   ]
  },
  {
   "cell_type": "code",
   "execution_count": 54,
   "id": "63121fa2-bd51-40ff-b5c9-3442833bc33b",
   "metadata": {},
   "outputs": [],
   "source": [
    "# Topics\n",
    "# 1. String slicing\n",
    "# 2. Slicing with third parameter\n",
    "# 3. Negative third parameter\n",
    "# 4. Reverse a string"
   ]
  },
  {
   "cell_type": "code",
   "execution_count": null,
   "id": "9cd68b84-9f75-4849-ad4e-2ac519667086",
   "metadata": {},
   "outputs": [],
   "source": [
    "# 1. String slicing\n",
    "# Def - technique used to access substring of a string"
   ]
  },
  {
   "cell_type": "code",
   "execution_count": 58,
   "id": "5fd69114-3fe9-45fc-9872-28007e81a64d",
   "metadata": {},
   "outputs": [
    {
     "name": "stdout",
     "output_type": "stream",
     "text": [
      "Index :  0  :  I\n",
      "Index :  1  :   \n",
      "Index :  2  :  a\n",
      "Index :  3  :  m\n",
      "Index :  4  :   \n",
      "Index :  5  :  N\n",
      "Index :  6  :  i\n",
      "Index :  7  :  l\n",
      "Index :  8  :  a\n",
      "Index :  9  :  d\n",
      "Index :  10  :  r\n",
      "Index :  11  :  i\n"
     ]
    }
   ],
   "source": [
    "sentence  = \"I am Niladri\"\n",
    "\n",
    "index = 0\n",
    "for char in sentence:\n",
    "    print(\"Index : \",index,\" : \",char)\n",
    "    index = index + 1"
   ]
  },
  {
   "cell_type": "code",
   "execution_count": 59,
   "id": "f6f20463-6474-4553-8e84-54807de955b6",
   "metadata": {},
   "outputs": [
    {
     "data": {
      "text/plain": [
       "'I am Nil'"
      ]
     },
     "execution_count": 59,
     "metadata": {},
     "output_type": "execute_result"
    }
   ],
   "source": [
    "sentence[0:8]"
   ]
  },
  {
   "cell_type": "code",
   "execution_count": 60,
   "id": "5315107f-2ee2-40ce-9eb5-e0c676003b73",
   "metadata": {},
   "outputs": [],
   "source": [
    "# 2. Slicing with third parameter\n",
    "# Third parameter = step value\n",
    "# by default => step value = 1\n",
    "# if step value = n, no. of elements to skip = (n-1)"
   ]
  },
  {
   "cell_type": "code",
   "execution_count": 62,
   "id": "d32b8e81-9f8a-4433-a45c-acee71da9018",
   "metadata": {},
   "outputs": [
    {
     "data": {
      "text/plain": [
       "'Ia i'"
      ]
     },
     "execution_count": 62,
     "metadata": {},
     "output_type": "execute_result"
    }
   ],
   "source": [
    "sentence[0:8:2]\n",
    "# o/p = Ia i"
   ]
  },
  {
   "cell_type": "code",
   "execution_count": 64,
   "id": "9a0f4fc9-2e17-4412-81ba-01ff8df0008a",
   "metadata": {},
   "outputs": [
    {
     "data": {
      "text/plain": [
       "'a ia'"
      ]
     },
     "execution_count": 64,
     "metadata": {},
     "output_type": "execute_result"
    }
   ],
   "source": [
    "sentence[2:10:2]\n",
    "# o/p = a ia"
   ]
  },
  {
   "cell_type": "code",
   "execution_count": 65,
   "id": "7aa1bce8-2a87-4e96-b141-d02b749204e4",
   "metadata": {},
   "outputs": [],
   "source": [
    "# Points to Note\n",
    "# 1. eliminating first and second parameters is allowed\n",
    "# 2. keeping first parameter and eliminating second parameter or vice versa is allowed"
   ]
  },
  {
   "cell_type": "code",
   "execution_count": 66,
   "id": "70ce20c4-9126-4f6d-97bb-602d149a6924",
   "metadata": {},
   "outputs": [
    {
     "data": {
      "text/plain": [
       "'abcabcabc'"
      ]
     },
     "execution_count": 66,
     "metadata": {},
     "output_type": "execute_result"
    }
   ],
   "source": [
    "s = 'abc'*3\n",
    "s"
   ]
  },
  {
   "cell_type": "code",
   "execution_count": 68,
   "id": "849feb20-ffdd-4266-b524-03d28ef54094",
   "metadata": {},
   "outputs": [
    {
     "data": {
      "text/plain": [
       "'aaa'"
      ]
     },
     "execution_count": 68,
     "metadata": {},
     "output_type": "execute_result"
    }
   ],
   "source": [
    "# 1. eliminating first and second parameters is allowed\n",
    "s[::3]\n",
    "# o/p = aaa"
   ]
  },
  {
   "cell_type": "code",
   "execution_count": 69,
   "id": "da26bdae-6245-4671-bf4e-fc8826c11175",
   "metadata": {},
   "outputs": [
    {
     "data": {
      "text/plain": [
       "'bbb'"
      ]
     },
     "execution_count": 69,
     "metadata": {},
     "output_type": "execute_result"
    }
   ],
   "source": [
    "# 2. keeping first parameter and eliminating second parameter or vice versa is allowed\n",
    "s[1::3]"
   ]
  },
  {
   "cell_type": "code",
   "execution_count": 72,
   "id": "3dd09fbf-a29c-411d-b500-dbfc320102fe",
   "metadata": {},
   "outputs": [
    {
     "data": {
      "text/plain": [
       "'aa'"
      ]
     },
     "execution_count": 72,
     "metadata": {},
     "output_type": "execute_result"
    }
   ],
   "source": [
    "s[:5:3]"
   ]
  },
  {
   "cell_type": "code",
   "execution_count": 73,
   "id": "251a5ee9-1a75-4a7f-8b17-187775915eb4",
   "metadata": {},
   "outputs": [],
   "source": [
    "# 3. Negative third parameter\n",
    "    # the - ve sign indicates right to left direction\n",
    "    # 1st param > 2nd param\n",
    "    # stop point = 2nd param + 1\n",
    "    # no. of elements to skip = abs( step value with -ve sign + 1 )"
   ]
  },
  {
   "cell_type": "code",
   "execution_count": 74,
   "id": "cabf523a-b2c7-485f-a596-35be43b12be3",
   "metadata": {},
   "outputs": [
    {
     "name": "stdout",
     "output_type": "stream",
     "text": [
      "Index :  0  :  I\n",
      "Index :  1  :   \n",
      "Index :  2  :  a\n",
      "Index :  3  :  m\n",
      "Index :  4  :   \n",
      "Index :  5  :  N\n",
      "Index :  6  :  i\n",
      "Index :  7  :  l\n",
      "Index :  8  :  a\n",
      "Index :  9  :  d\n",
      "Index :  10  :  r\n",
      "Index :  11  :  i\n"
     ]
    }
   ],
   "source": [
    "sentence  = \"I am Niladri\"\n",
    "\n",
    "index = 0\n",
    "for char in sentence:\n",
    "    print(\"Index : \",index,\" : \",char)\n",
    "    index = index + 1"
   ]
  },
  {
   "cell_type": "code",
   "execution_count": null,
   "id": "462367d5-c838-4e7b-ba90-942add13db7d",
   "metadata": {},
   "outputs": [],
   "source": [
    "sentence[8::-2]"
   ]
  },
  {
   "cell_type": "code",
   "execution_count": 75,
   "id": "e3e8b473-ee23-4cc6-a170-7c0bf43c9e80",
   "metadata": {},
   "outputs": [
    {
     "data": {
      "text/plain": [
       "'irdaliN'"
      ]
     },
     "execution_count": 75,
     "metadata": {},
     "output_type": "execute_result"
    }
   ],
   "source": [
    "# Reverse a string\n",
    "s = \"Niladri\"\n",
    "s[::-1]"
   ]
  },
  {
   "cell_type": "markdown",
   "id": "860392d4-9de9-4a7d-ad97-dd32989f953c",
   "metadata": {},
   "source": [
    "### String Operators"
   ]
  },
  {
   "cell_type": "code",
   "execution_count": 26,
   "id": "2fc5f740-a1d5-46b1-a396-0b6cf5f905d1",
   "metadata": {},
   "outputs": [],
   "source": [
    "# 1. String concatenation operator (+)\n",
    "# 2. String Repetition operator (*)\n",
    "\n",
    "# 3. String Comparison operators\n",
    "    # a. Equality ==\n",
    "    # b. Not Equal !=\n",
    "    # c. Greater than >\n",
    "    # d. Greater than or Equal to >=\n",
    "    # e. Less than <\n",
    "    # f. Less than or equal to <=\n",
    "\n",
    "# 9. Membership operators \n",
    "    # a. in operator\n",
    "    # b. not in operator\n",
    "\n",
    "# 10. Escape Sequence pperator (\\)\n",
    "# 11. String formatting operator"
   ]
  },
  {
   "cell_type": "code",
   "execution_count": 2,
   "id": "46a3e353-f9b2-40b7-ad85-22d0aa56b2a2",
   "metadata": {},
   "outputs": [],
   "source": [
    "# 1. String concatenation (+)\n",
    "# Concatenates two string\n",
    "# binary operator that requires 2 operands"
   ]
  },
  {
   "cell_type": "code",
   "execution_count": 3,
   "id": "55b2be73-3768-4186-92fc-60841c655e41",
   "metadata": {},
   "outputs": [
    {
     "data": {
      "text/plain": [
       "'IamNiladri'"
      ]
     },
     "execution_count": 3,
     "metadata": {},
     "output_type": "execute_result"
    }
   ],
   "source": [
    "\"I\"+\"am\"+\"Niladri\""
   ]
  },
  {
   "cell_type": "code",
   "execution_count": 5,
   "id": "face1b2d-052a-4507-9f0a-d9a365982ebb",
   "metadata": {},
   "outputs": [],
   "source": [
    "# 2. String Repetition (*)\n",
    "\n",
    "# n = 3\n",
    "# s = \"Hello\"\n",
    "\n",
    "# n * s = s * n\n",
    "\n",
    "# Note\n",
    "# n > 0\n",
    "# for n <= 0, it returns void"
   ]
  },
  {
   "cell_type": "code",
   "execution_count": 6,
   "id": "8ceb87da-3ee6-4b09-a514-1478b562c7e2",
   "metadata": {},
   "outputs": [
    {
     "data": {
      "text/plain": [
       "'HelloHelloHello'"
      ]
     },
     "execution_count": 6,
     "metadata": {},
     "output_type": "execute_result"
    }
   ],
   "source": [
    "n = 3\n",
    "s = \"Hello\"\n",
    "n * s"
   ]
  },
  {
   "cell_type": "code",
   "execution_count": 7,
   "id": "08079b7e-30f4-456c-a6bd-667b6db84d79",
   "metadata": {},
   "outputs": [
    {
     "data": {
      "text/plain": [
       "''"
      ]
     },
     "execution_count": 7,
     "metadata": {},
     "output_type": "execute_result"
    }
   ],
   "source": [
    "n = 0\n",
    "s = \"Hello\"\n",
    "n * s"
   ]
  },
  {
   "cell_type": "code",
   "execution_count": 8,
   "id": "9a3dc40c-718d-44f8-b2a7-f082681ccd22",
   "metadata": {},
   "outputs": [
    {
     "data": {
      "text/plain": [
       "''"
      ]
     },
     "execution_count": 8,
     "metadata": {},
     "output_type": "execute_result"
    }
   ],
   "source": [
    "n = -1\n",
    "s = \"Hello\"\n",
    "n * s"
   ]
  },
  {
   "cell_type": "code",
   "execution_count": 9,
   "id": "e829b42f-e326-4432-8d09-01f58df40d84",
   "metadata": {},
   "outputs": [
    {
     "ename": "TypeError",
     "evalue": "can't multiply sequence by non-int of type 'float'",
     "output_type": "error",
     "traceback": [
      "\u001b[0;31m---------------------------------------------------------------------------\u001b[0m",
      "\u001b[0;31mTypeError\u001b[0m                                 Traceback (most recent call last)",
      "Cell \u001b[0;32mIn[9], line 3\u001b[0m\n\u001b[1;32m      1\u001b[0m n \u001b[38;5;241m=\u001b[39m \u001b[38;5;241m1.5\u001b[39m\n\u001b[1;32m      2\u001b[0m s \u001b[38;5;241m=\u001b[39m \u001b[38;5;124m\"\u001b[39m\u001b[38;5;124mHello\u001b[39m\u001b[38;5;124m\"\u001b[39m\n\u001b[0;32m----> 3\u001b[0m n \u001b[38;5;241m*\u001b[39m s\n",
      "\u001b[0;31mTypeError\u001b[0m: can't multiply sequence by non-int of type 'float'"
     ]
    }
   ],
   "source": [
    "n = 1.5\n",
    "s = \"Hello\"\n",
    "n * s"
   ]
  },
  {
   "cell_type": "code",
   "execution_count": 16,
   "id": "199997c3-c8e5-4f10-852f-812ea9ed18e5",
   "metadata": {},
   "outputs": [],
   "source": [
    "# 3a. Equality ==\n",
    "# def : returns true if 2 strings are equal or else false\n",
    "# behind the scenes it compares the ASCII values"
   ]
  },
  {
   "cell_type": "code",
   "execution_count": 17,
   "id": "f94480cf-5c46-4201-a331-f2453383f230",
   "metadata": {},
   "outputs": [
    {
     "name": "stdout",
     "output_type": "stream",
     "text": [
      "True\n",
      "False\n"
     ]
    }
   ],
   "source": [
    "print(\"Hello\" == \"Hello\")\n",
    "print(\"Hello\" == \"hello\")"
   ]
  },
  {
   "cell_type": "code",
   "execution_count": 18,
   "id": "0cdfbe97-bdd7-44be-9b7e-46d7c8487436",
   "metadata": {},
   "outputs": [],
   "source": [
    "# 3b. Not Equal !=\n",
    "# def : returns true if 2 strings are not equal or else false"
   ]
  },
  {
   "cell_type": "code",
   "execution_count": 19,
   "id": "c829520c-e4fb-4e87-9517-41feb6dd79bb",
   "metadata": {},
   "outputs": [
    {
     "name": "stdout",
     "output_type": "stream",
     "text": [
      "False\n",
      "True\n"
     ]
    }
   ],
   "source": [
    "print(\"Hello\" != \"Hello\")\n",
    "print(\"Hello\" != \"hello\")"
   ]
  },
  {
   "cell_type": "code",
   "execution_count": 21,
   "id": "2299762b-2258-4000-ba23-3de1306d12d1",
   "metadata": {},
   "outputs": [],
   "source": [
    "# 3c. Greater than >\n",
    "# 3d. Greater than or Equal to >=\n",
    "# 3e. Less than <\n",
    "# 3f. Less than or equal to <="
   ]
  },
  {
   "cell_type": "code",
   "execution_count": 22,
   "id": "281088a8-cc05-4642-a935-44c19ea37349",
   "metadata": {},
   "outputs": [
    {
     "name": "stdout",
     "output_type": "stream",
     "text": [
      "True\n",
      "True\n",
      "True\n",
      "True\n"
     ]
    }
   ],
   "source": [
    "print(\"hello\" > \"Hello\")\n",
    "print(\"hEllo\" < \"hello\")\n",
    "print('a' >= 'a')\n",
    "print('A' <= 'a')"
   ]
  },
  {
   "cell_type": "code",
   "execution_count": 25,
   "id": "a215fcda-4e78-4dcb-be86-38be74ac9c2f",
   "metadata": {},
   "outputs": [],
   "source": [
    "# ASCII\n",
    "# 1. Control characters [0-31,127]\n",
    "# 2. Printable characters [32-126]\n",
    "# 3. Extended ASCII [128-255]"
   ]
  },
  {
   "cell_type": "code",
   "execution_count": 30,
   "id": "cbaed5df-6ab6-49a1-be6c-1d5de2b5cc20",
   "metadata": {},
   "outputs": [],
   "source": [
    "# 9. Membership operators \n",
    "# these are binary operators that requires two operand to function\n",
    "    # a. in operator \n",
    "        # => returns True if the first operand is contained within the second operand as a whole\n",
    "    # b. not in operator\n",
    "        # => returns True if the first operand is not contained within the second operand as a whole"
   ]
  },
  {
   "cell_type": "code",
   "execution_count": 31,
   "id": "7d534799-a7f3-4975-8081-cf2daeae71b5",
   "metadata": {},
   "outputs": [
    {
     "data": {
      "text/plain": [
       "True"
      ]
     },
     "execution_count": 31,
     "metadata": {},
     "output_type": "execute_result"
    }
   ],
   "source": [
    "'Nil' in 'Niladri'"
   ]
  },
  {
   "cell_type": "code",
   "execution_count": 32,
   "id": "da1d3193-6768-4659-bc6f-a21c74d99e22",
   "metadata": {},
   "outputs": [
    {
     "data": {
      "text/plain": [
       "False"
      ]
     },
     "execution_count": 32,
     "metadata": {},
     "output_type": "execute_result"
    }
   ],
   "source": [
    "'n' in 'Niladri'"
   ]
  },
  {
   "cell_type": "code",
   "execution_count": 33,
   "id": "7223748c-5ccb-458c-baee-5cb95d989c55",
   "metadata": {},
   "outputs": [
    {
     "data": {
      "text/plain": [
       "True"
      ]
     },
     "execution_count": 33,
     "metadata": {},
     "output_type": "execute_result"
    }
   ],
   "source": [
    "'a' in 'Niladri'"
   ]
  },
  {
   "cell_type": "code",
   "execution_count": 34,
   "id": "72103154-959c-4318-96e0-732379c3c04d",
   "metadata": {},
   "outputs": [
    {
     "data": {
      "text/plain": [
       "False"
      ]
     },
     "execution_count": 34,
     "metadata": {},
     "output_type": "execute_result"
    }
   ],
   "source": [
    "'ar' in 'Niladri'"
   ]
  },
  {
   "cell_type": "code",
   "execution_count": 35,
   "id": "5488a611-b6f1-482f-8b1a-851b8d6ae5d9",
   "metadata": {},
   "outputs": [
    {
     "data": {
      "text/plain": [
       "True"
      ]
     },
     "execution_count": 35,
     "metadata": {},
     "output_type": "execute_result"
    }
   ],
   "source": [
    "'ar' not in 'Niladri'"
   ]
  },
  {
   "cell_type": "code",
   "execution_count": 36,
   "id": "c0abeb80-c113-4964-b353-286b7a1f0b16",
   "metadata": {},
   "outputs": [],
   "source": [
    "# 10. Escape Sequence pperator (\\)\n",
    "# Escape character (\\) = used to insert a non-allowed character in a string\n",
    "# syntax : \\[non-allowed character]"
   ]
  },
  {
   "cell_type": "code",
   "execution_count": 37,
   "id": "d49efd92-3be5-4916-b81c-5dcaa3871ca2",
   "metadata": {},
   "outputs": [
    {
     "ename": "SyntaxError",
     "evalue": "invalid syntax. Perhaps you forgot a comma? (4263054548.py, line 2)",
     "output_type": "error",
     "traceback": [
      "\u001b[0;36m  Cell \u001b[0;32mIn[37], line 2\u001b[0;36m\u001b[0m\n\u001b[0;31m    print(\"I am Niladri and I am from \"India.\"\")\u001b[0m\n\u001b[0m          ^\u001b[0m\n\u001b[0;31mSyntaxError\u001b[0m\u001b[0;31m:\u001b[0m invalid syntax. Perhaps you forgot a comma?\n"
     ]
    }
   ],
   "source": [
    "# I am supposed to get error here\n",
    "print(\"I am Niladri and I am from \"India.\"\")"
   ]
  },
  {
   "cell_type": "code",
   "execution_count": 38,
   "id": "f062df98-f9c1-43ec-8a8a-25da0938e672",
   "metadata": {},
   "outputs": [
    {
     "name": "stdout",
     "output_type": "stream",
     "text": [
      "I am Niladri and I am from \"India.\"\n"
     ]
    }
   ],
   "source": [
    "print(\"I am Niladri and I am from \\\"India.\\\"\")"
   ]
  },
  {
   "cell_type": "code",
   "execution_count": 39,
   "id": "ed27d3c9-69b9-41a6-b8a7-28856027e51c",
   "metadata": {},
   "outputs": [],
   "source": [
    "# Some escape chacaters\n",
    "# \\n = newline\n",
    "# \\b = backspace\n",
    "# \\ooo = octal number\n",
    "# \\xhh = hexadecimal number\n",
    "# \\t = tab\n",
    "# \\\\ = insert a backslash"
   ]
  },
  {
   "cell_type": "code",
   "execution_count": 40,
   "id": "0bd36dda-5704-4e81-9390-9dededea6aae",
   "metadata": {},
   "outputs": [
    {
     "name": "stdout",
     "output_type": "stream",
     "text": [
      "I am Niladri and \n",
      "I am from \"India.\"\n"
     ]
    }
   ],
   "source": [
    "print(\"I am Niladri and \\nI am \\x66rom \\\"Indi\\141.\\\"\")"
   ]
  },
  {
   "cell_type": "code",
   "execution_count": 46,
   "id": "27dbc2ed-0093-4f2f-85c5-2c9c01740eba",
   "metadata": {},
   "outputs": [
    {
     "name": "stdout",
     "output_type": "stream",
     "text": [
      "decimal value :  102  -- > ascii value corresponds to :  f\n"
     ]
    }
   ],
   "source": [
    "hex_val = \"0x66\"\n",
    "decimal_val = int(hex_val,16)\n",
    "print(\"decimal value : \",decimal_val,\" -- > ascii value corresponds to : \",chr(decimal_val))"
   ]
  },
  {
   "cell_type": "code",
   "execution_count": 48,
   "id": "5dbd80e3-468b-4af4-8473-1a452357d9e7",
   "metadata": {},
   "outputs": [
    {
     "name": "stdout",
     "output_type": "stream",
     "text": [
      "decimal value :  97  -- > ascii value corresponds to :  a\n"
     ]
    }
   ],
   "source": [
    "oct_val = \"0o141\"\n",
    "decimal_val = int(oct_val,8)\n",
    "print(\"decimal value : \",decimal_val,\" -- > ascii value corresponds to : \",chr(decimal_val))"
   ]
  },
  {
   "cell_type": "code",
   "execution_count": 56,
   "id": "a61f1e57-bbd5-46d4-b2a0-5a1622f5233c",
   "metadata": {},
   "outputs": [],
   "source": [
    "# 11. String formatting operator\n",
    "# using string formatting operators, we can use external values within our string in a dynamic way\n",
    "    # %d = int or decimal\n",
    "    # %c = external character\n",
    "    # %s = external string\n",
    "    # %f = floating value"
   ]
  },
  {
   "cell_type": "code",
   "execution_count": 51,
   "id": "7e05686f-76c3-4026-ac80-b7dd8767df95",
   "metadata": {},
   "outputs": [
    {
     "name": "stdout",
     "output_type": "stream",
     "text": [
      "My age is 44\n"
     ]
    }
   ],
   "source": [
    "age = 44\n",
    "print(\"My age is %d\" %(age))"
   ]
  },
  {
   "cell_type": "markdown",
   "id": "a93d2c1e-682d-4280-81dc-774ee9dc45a9",
   "metadata": {},
   "source": [
    "### String formatting"
   ]
  },
  {
   "cell_type": "code",
   "execution_count": 76,
   "id": "48296126-c977-420a-8b2f-ec95e33142ec",
   "metadata": {},
   "outputs": [],
   "source": [
    "# What is string Interpolation ? \n",
    "\n",
    "# What is Interpolation ?\n",
    "# insert (something of a different nature) -> something else\n",
    "\n",
    "# String formatting == string interpolation\n",
    "\n",
    "# [object] --> [string]\n",
    "# - string\n",
    "# - number\n",
    "\n",
    "# Different Techniques\n",
    "# a. % formatting\n",
    "# b. str.format()\n",
    "# c. f-string formatting"
   ]
  },
  {
   "cell_type": "markdown",
   "id": "e15a0550-aeeb-4e62-9452-da4908388231",
   "metadata": {},
   "source": [
    "**%-formatting**"
   ]
  },
  {
   "cell_type": "markdown",
   "id": "670db23f-fc44-4b6c-9b42-c1883c098b67",
   "metadata": {},
   "source": [
    "%s\\\n",
    "%f\\\n",
    "%d etc."
   ]
  },
  {
   "cell_type": "code",
   "execution_count": 78,
   "id": "bfd68164-e40b-4e7e-98a5-90434e2b9894",
   "metadata": {},
   "outputs": [
    {
     "data": {
      "text/plain": [
       "'My name is Niladri'"
      ]
     },
     "execution_count": 78,
     "metadata": {},
     "output_type": "execute_result"
    }
   ],
   "source": [
    "# % formatting - old technique\n",
    "\n",
    "name = \"Niladri\"\n",
    "\"My name is %s\" % name"
   ]
  },
  {
   "cell_type": "code",
   "execution_count": 80,
   "id": "ab02cb9f-848a-4709-9333-de42e2e778f5",
   "metadata": {},
   "outputs": [
    {
     "data": {
      "text/plain": [
       "'My name is Niladri and I live in Kolkata'"
      ]
     },
     "execution_count": 80,
     "metadata": {},
     "output_type": "execute_result"
    }
   ],
   "source": [
    "# we can enter multiple variables\n",
    "\n",
    "# Order is important\n",
    "\n",
    "name = \"Niladri\"\n",
    "city = \"Kolkata\"\n",
    "\"My name is %s and I live in %s\" % (name,city)"
   ]
  },
  {
   "cell_type": "code",
   "execution_count": 81,
   "id": "a9880a91-c065-4464-89e3-ce5630134056",
   "metadata": {},
   "outputs": [
    {
     "data": {
      "text/plain": [
       "'My name is Niladri and I am 44 years old and I received 56.780000 amount'"
      ]
     },
     "execution_count": 81,
     "metadata": {},
     "output_type": "execute_result"
    }
   ],
   "source": [
    "# we can use %d and %f as well\n",
    "\n",
    "name = \"Niladri\"\n",
    "age = 44\n",
    "money = 56.78\n",
    "\n",
    "\"My name is %s and I am %d years old and I received %f amount\" % (name,age,money)"
   ]
  },
  {
   "cell_type": "markdown",
   "id": "889c940e-a472-4acd-8073-8002fce5ad4e",
   "metadata": {},
   "source": [
    "**str.format()**"
   ]
  },
  {
   "cell_type": "markdown",
   "id": "0e533b9b-ed4c-4fcd-9dc9-6af6795ee182",
   "metadata": {},
   "source": [
    "The placeholders are replaced by curly braces"
   ]
  },
  {
   "cell_type": "code",
   "execution_count": 83,
   "id": "d167db9d-03aa-47ff-a2b3-ed4b441b380e",
   "metadata": {},
   "outputs": [
    {
     "data": {
      "text/plain": [
       "'My name is Niladri and I live in Kolkata'"
      ]
     },
     "execution_count": 83,
     "metadata": {},
     "output_type": "execute_result"
    }
   ],
   "source": [
    "# use of placeholders\n",
    "\n",
    "name = \"Niladri\"\n",
    "city = \"Kolkata\"\n",
    "\"My name is {} and I live in {}\".format(name,city)"
   ]
  },
  {
   "cell_type": "code",
   "execution_count": 84,
   "id": "59fbaa34-bcc1-4859-9a46-d19b7922ca63",
   "metadata": {},
   "outputs": [
    {
     "data": {
      "text/plain": [
       "'My name is Niladri and I live in Kolkata'"
      ]
     },
     "execution_count": 84,
     "metadata": {},
     "output_type": "execute_result"
    }
   ],
   "source": [
    "# referencing variables using index is possible\n",
    "\n",
    "name = \"Niladri\"\n",
    "city = \"Kolkata\"\n",
    "\n",
    "\"My name is {0} and I live in {1}\".format(name,city) # name = 0, city = 1"
   ]
  },
  {
   "cell_type": "code",
   "execution_count": 86,
   "id": "c1a81c36-563e-4c3e-aba0-1853eb7642a9",
   "metadata": {},
   "outputs": [
    {
     "data": {
      "text/plain": [
       "'My name is Kolkata and I live in Niladri'"
      ]
     },
     "execution_count": 86,
     "metadata": {},
     "output_type": "execute_result"
    }
   ],
   "source": [
    "# showing i can shuffle the index. Not a meaningful sentence\n",
    "\"My name is {1} and I live in {0}\".format(name,city) # name = 0, city = 1"
   ]
  },
  {
   "cell_type": "code",
   "execution_count": 87,
   "id": "ee1ca331-51cf-47dc-9b2f-fccfd70485d0",
   "metadata": {},
   "outputs": [
    {
     "data": {
      "text/plain": [
       "'My name is Niladri and I live in Kolkata'"
      ]
     },
     "execution_count": 87,
     "metadata": {},
     "output_type": "execute_result"
    }
   ],
   "source": [
    "# To improve readability keywords can be used\n",
    "n = \"Niladri\"\n",
    "c = \"Kolkata\"\n",
    "\"My name is {name} and I live in {city}\".format(name = n,city = c)"
   ]
  },
  {
   "cell_type": "markdown",
   "id": "d65eb961-24cd-4e8b-90dc-9379d661a486",
   "metadata": {},
   "source": [
    "**format specifiers**"
   ]
  },
  {
   "cell_type": "code",
   "execution_count": 88,
   "id": "65e3e2d1-52e8-4578-957c-51062f134217",
   "metadata": {},
   "outputs": [
    {
     "data": {
      "text/plain": [
       "'I got 55.560000% marks in English.'"
      ]
     },
     "execution_count": 88,
     "metadata": {},
     "output_type": "execute_result"
    }
   ],
   "source": [
    "\"I got {0:f}% marks in English.\".format(55.56)\n",
    "\n",
    "# Here \n",
    "# 0 is the index of the value = > 55.56 \n",
    "# f means express the value in float"
   ]
  },
  {
   "cell_type": "code",
   "execution_count": 89,
   "id": "168d3e40-e3e7-4f48-b531-6262197f8bd9",
   "metadata": {},
   "outputs": [
    {
     "data": {
      "text/plain": [
       "'I got 55.560000% marks in English and 90.000000 marks in Maths'"
      ]
     },
     "execution_count": 89,
     "metadata": {},
     "output_type": "execute_result"
    }
   ],
   "source": [
    "\"I got {0:f}% marks in English and {1:f} marks in Maths\".format(55.56,90)"
   ]
  },
  {
   "cell_type": "code",
   "execution_count": 90,
   "id": "3b9f3492-22ca-4a63-b545-7d04e72e8ed7",
   "metadata": {},
   "outputs": [
    {
     "data": {
      "text/plain": [
       "'I got 55.000000% marks in English.'"
      ]
     },
     "execution_count": 90,
     "metadata": {},
     "output_type": "execute_result"
    }
   ],
   "source": [
    "# Auto-convert integer to float\n",
    "\"I got {0:f}% marks in English.\".format(55)"
   ]
  },
  {
   "cell_type": "code",
   "execution_count": 91,
   "id": "cd67cf68-5d9f-43a2-ba49-90f5150fbf87",
   "metadata": {},
   "outputs": [
    {
     "ename": "ValueError",
     "evalue": "Unknown format code 'f' for object of type 'str'",
     "output_type": "error",
     "traceback": [
      "\u001b[0;31m---------------------------------------------------------------------------\u001b[0m",
      "\u001b[0;31mValueError\u001b[0m                                Traceback (most recent call last)",
      "Cell \u001b[0;32mIn[91], line 2\u001b[0m\n\u001b[1;32m      1\u001b[0m \u001b[38;5;66;03m# str -> float is not possible. Error expected\u001b[39;00m\n\u001b[0;32m----> 2\u001b[0m \u001b[38;5;124m\"\u001b[39m\u001b[38;5;124mI got \u001b[39m\u001b[38;5;132;01m{0:f}\u001b[39;00m\u001b[38;5;124m%\u001b[39m\u001b[38;5;124m marks in English.\u001b[39m\u001b[38;5;124m\"\u001b[39m\u001b[38;5;241m.\u001b[39mformat(\u001b[38;5;124m'\u001b[39m\u001b[38;5;124m55\u001b[39m\u001b[38;5;124m'\u001b[39m)\n",
      "\u001b[0;31mValueError\u001b[0m: Unknown format code 'f' for object of type 'str'"
     ]
    }
   ],
   "source": [
    "# str -> float is not possible. Error expected\n",
    "\"I got {0:f}% marks in English.\".format('55')"
   ]
  },
  {
   "cell_type": "code",
   "execution_count": 92,
   "id": "2b9adb39-d45d-446c-bce9-30b7c390f055",
   "metadata": {},
   "outputs": [
    {
     "data": {
      "text/plain": [
       "'I got 55.57% marks in English.'"
      ]
     },
     "execution_count": 92,
     "metadata": {},
     "output_type": "execute_result"
    }
   ],
   "source": [
    "# Limit floating point value to 2 decimals only\n",
    "\"I got {0:.2f}% marks in English.\".format(55.567883)"
   ]
  },
  {
   "cell_type": "markdown",
   "id": "5c03e5d2-d761-46e5-b834-446915bf86f7",
   "metadata": {},
   "source": [
    "**string formatting - f-strings**"
   ]
  },
  {
   "cell_type": "code",
   "execution_count": 93,
   "id": "4efe9765-35f0-4d89-b8ea-ab803d0f0fa0",
   "metadata": {},
   "outputs": [],
   "source": [
    "# syntax = f\"string {object}\""
   ]
  },
  {
   "cell_type": "code",
   "execution_count": 95,
   "id": "a901a784-c257-4bf5-8840-3bb747deef56",
   "metadata": {},
   "outputs": [
    {
     "name": "stdout",
     "output_type": "stream",
     "text": [
      "My name is Niladri\n"
     ]
    }
   ],
   "source": [
    "name = \"Niladri\"\n",
    "print(f\"My name is {name}\")"
   ]
  },
  {
   "cell_type": "code",
   "execution_count": 96,
   "id": "677e0a75-e1ad-412a-8e66-a93f4ce51fcf",
   "metadata": {},
   "outputs": [
    {
     "name": "stdout",
     "output_type": "stream",
     "text": [
      "My name is NILADRI\n"
     ]
    }
   ],
   "source": [
    "# call to method is possible\n",
    "name = \"Niladri\"\n",
    "print(f\"My name is {name.upper()}\")"
   ]
  },
  {
   "cell_type": "markdown",
   "id": "ff291757-77bc-4a48-98f0-8b4a5669c29c",
   "metadata": {},
   "source": [
    "**Multi-line f-strings**"
   ]
  },
  {
   "cell_type": "code",
   "execution_count": 110,
   "id": "19919862-438c-49b3-8a4b-583786cf85c8",
   "metadata": {},
   "outputs": [
    {
     "name": "stdout",
     "output_type": "stream",
     "text": [
      "My name is Niladri\n",
      "My age is 44\n",
      "I am a Male\n"
     ]
    }
   ],
   "source": [
    "# approach 1\n",
    "\n",
    "name = \"Niladri\"\n",
    "age = 44\n",
    "gender = \"Male\"\n",
    "\n",
    "introduction =  f\"My name is {name}\\n\"\\\n",
    "                f\"My age is {age}\\n\"\\\n",
    "                f\"I am a {gender}\"\n",
    "\n",
    "print(introduction)"
   ]
  },
  {
   "cell_type": "code",
   "execution_count": 111,
   "id": "a4aaeae6-25d2-4b02-a0aa-41765a683760",
   "metadata": {},
   "outputs": [
    {
     "name": "stdout",
     "output_type": "stream",
     "text": [
      "My name is Niladri\n",
      "My age is 44\n",
      "I am a Male\n"
     ]
    }
   ],
   "source": [
    "# approach 1 - another way\n",
    "\n",
    "name = \"Niladri\"\n",
    "age = 44\n",
    "gender = \"Male\"\n",
    "\n",
    "introduction =  f\"My name is {name}{chr(10)}\"\\\n",
    "                f\"My age is {age}{chr(10)}\"\\\n",
    "                f\"I am a {gender}\"\n",
    "\n",
    "print(introduction)"
   ]
  },
  {
   "cell_type": "code",
   "execution_count": 112,
   "id": "eda0c44d-1079-4c9d-9f84-af58408123db",
   "metadata": {},
   "outputs": [
    {
     "name": "stdout",
     "output_type": "stream",
     "text": [
      "My name is Niladri\n",
      "My age is 44\n",
      "I am a Male\n"
     ]
    }
   ],
   "source": [
    "# approach 2 : using round brackets\n",
    "\n",
    "name = \"Niladri\"\n",
    "age = 44\n",
    "gender = \"Male\"\n",
    "\n",
    "introduction =  (f\"My name is {name}\\n\"\n",
    "                f\"My age is {age}\\n\"\n",
    "                f\"I am a {gender}\")\n",
    "\n",
    "print(introduction)"
   ]
  },
  {
   "cell_type": "code",
   "execution_count": 114,
   "id": "006c028e-1d60-4f7e-9426-45e31bab42b6",
   "metadata": {},
   "outputs": [
    {
     "name": "stdout",
     "output_type": "stream",
     "text": [
      "My name is Niladri\n",
      "                My age is 44\n",
      "                I am a Male\n"
     ]
    }
   ],
   "source": [
    "# approach 3 : using triple brackets\n",
    "\n",
    "# it retains the spaces and tabs and newlines that is present in the code\n",
    "\n",
    "name = \"Niladri\"\n",
    "age = 44\n",
    "gender = \"Male\"\n",
    "\n",
    "introduction =  f\"\"\"My name is {name}\n",
    "                My age is {age}\n",
    "                I am a {gender}\"\"\"\n",
    "\n",
    "print(introduction)"
   ]
  },
  {
   "cell_type": "markdown",
   "id": "d3cb4bbd-dcc5-43f4-856b-9005baf498c4",
   "metadata": {},
   "source": [
    "__Output should be in curly braces__"
   ]
  },
  {
   "cell_type": "code",
   "execution_count": 115,
   "id": "38bbd49a-148e-4147-ab37-6ec6f00be44b",
   "metadata": {},
   "outputs": [
    {
     "name": "stdout",
     "output_type": "stream",
     "text": [
      "The sum of x+y is 30\n"
     ]
    }
   ],
   "source": [
    "x = 10\n",
    "y = 20\n",
    "\n",
    "print(f\"The sum of x+y is {x+y}\")"
   ]
  },
  {
   "cell_type": "code",
   "execution_count": 116,
   "id": "ee18ed02-2cec-417c-9c3c-99bd9531bcac",
   "metadata": {},
   "outputs": [
    {
     "name": "stdout",
     "output_type": "stream",
     "text": [
      "The sum of {x+y} is 30\n"
     ]
    }
   ],
   "source": [
    "# what if we want a curly brace outside of text = x+y\n",
    "print(f\"The sum of {{x+y}} is {x+y}\")"
   ]
  },
  {
   "cell_type": "code",
   "execution_count": 117,
   "id": "d9bb2c30-7251-47ad-a2b9-11e707b2e1ce",
   "metadata": {},
   "outputs": [
    {
     "name": "stdout",
     "output_type": "stream",
     "text": [
      "The sum of {x+y} is {30}\n"
     ]
    }
   ],
   "source": [
    "# what if we want a curly brace outside of the result 30\n",
    "print(f\"The sum of {{x+y}} is {{{x+y}}}\")"
   ]
  },
  {
   "cell_type": "markdown",
   "id": "f5cc7699-5daf-4f20-a7bc-f8d68d81e1ad",
   "metadata": {},
   "source": [
    "### String Methods"
   ]
  },
  {
   "cell_type": "code",
   "execution_count": 119,
   "id": "fff8a863-3e8f-4c29-9d74-e4cc665a3621",
   "metadata": {},
   "outputs": [],
   "source": [
    "# -------------------------------------------------\n",
    "#             Commonly used string methods\n",
    "# -------------------------------------------------\n",
    "\n",
    "# capitalize()\tConverts the first character to upper case  ***** >\n",
    "# casefold()\tConverts string into lower case\n",
    "# center()\t    Returns a centered string\n",
    "# count()\t    Returns the number of times a specified value occurs in a string  ***** >\n",
    "# encode()\t    Returns an encoded version of the string\n",
    "# endswith()\tReturns true if the string ends with the specified value\n",
    "# expandtabs()\tSets the tab size of the string\n",
    "# find()\t    Searches the string for a specified value and returns the position of where it was found  ***** >\n",
    "# format()\t    Formats specified values in a string  ***** >\n",
    "# format_map()\tFormats specified values in a string\n",
    "# index()\t    Searches the string for a specified value and returns the position of where it was found  ***** >\n",
    "# isalnum()\t    Returns True if all characters in the string are alphanumeric  ***** >\n",
    "# isalpha()\t    Returns True if all characters in the string are in the alphabet  ***** >\n",
    "# isascii()\t    Returns True if all characters in the string are ascii characters\n",
    "# isdecimal()\tReturns True if all characters in the string are decimals  ***** >\n",
    "# isdigit()\t    Returns True if all characters in the string are digits\n",
    "# isidentifier()\tReturns True if the string is an identifier\n",
    "# islower()\t    Returns True if all characters in the string are lower case   ***** >\n",
    "# isnumeric()\tReturns True if all characters in the string are numeric  ***** >\n",
    "# isprintable()\tReturns True if all characters in the string are printable\n",
    "# isspace()\t    Returns True if all characters in the string are whitespaces\n",
    "# istitle()\t    Returns True if the string follows the rules of a title\n",
    "# isupper()\t    Returns True if all characters in the string are upper case  ***** >\n",
    "# join()\t    Converts the elements of an iterable into a string  ***** >\n",
    "# ljust()\t    Returns a left justified version of the string\n",
    "# lower()\t    Converts a string into lower case  ***** >\n",
    "# lstrip()\t    Returns a left trim version of the string  ***** >\n",
    "# maketrans()\tReturns a translation table to be used in translations\n",
    "# partition()\tReturns a tuple where the string is parted into three parts\n",
    "# replace()\t    Returns a string where a specified value is replaced with a specified value  ***** >\n",
    "# rfind()\t    Searches the string for a specified value and returns the last position of where it was found  ***** >\n",
    "# rindex()\t    Searches the string for a specified value and returns the last position of where it was found  ***** >\n",
    "# rjust()\t    Returns a right justified version of the string\n",
    "# rpartition()\tReturns a tuple where the string is parted into three parts\n",
    "# rsplit()\t    Splits the string at the specified separator, and returns a list  ***** >\n",
    "# rstrip()\t    Returns a right trim version of the string  ***** >\n",
    "# split()\t    Splits the string at the specified separator, and returns a list  ***** >\n",
    "# splitlines()\tSplits the string at line breaks and returns a list\n",
    "# startswith()\tReturns true if the string starts with the specified value\n",
    "# strip()\t    Returns a trimmed version of the string  ***** >\n",
    "# swapcase()\tSwaps cases, lower case becomes upper case and vice versa\n",
    "# title()\t    Converts the first character of each word to upper case  ***** >\n",
    "# translate()\tReturns a translated string\n",
    "# upper()\t    Converts a string into upper case  ***** >\n",
    "# zfill()\t    Fills the string with a specified number of 0 values at the beginning"
   ]
  },
  {
   "cell_type": "markdown",
   "id": "3619c007-0689-49ff-b1c3-44858e134991",
   "metadata": {},
   "source": [
    "**strip() method**"
   ]
  },
  {
   "cell_type": "code",
   "execution_count": 122,
   "id": "d1fa18d1-aadc-4421-97d3-dab44bfdb8b6",
   "metadata": {},
   "outputs": [
    {
     "data": {
      "text/plain": [
       "'Hello World'"
      ]
     },
     "execution_count": 122,
     "metadata": {},
     "output_type": "execute_result"
    }
   ],
   "source": [
    "# Helps in remving leading and trailing whitespaces or any character specified.\n",
    "\"   Hello World   \".strip()"
   ]
  },
  {
   "cell_type": "code",
   "execution_count": 124,
   "id": "96a6cc58-a32d-4499-962a-99a29f3f7974",
   "metadata": {},
   "outputs": [
    {
     "data": {
      "text/plain": [
       "'Hello World'"
      ]
     },
     "execution_count": 124,
     "metadata": {},
     "output_type": "execute_result"
    }
   ],
   "source": [
    "# It can remove any leading & trailing characters\n",
    "\"####Hello World####\".strip('#')"
   ]
  },
  {
   "cell_type": "code",
   "execution_count": 125,
   "id": "0f9c423a-caac-49fe-986b-3ca4370ced3b",
   "metadata": {},
   "outputs": [
    {
     "data": {
      "text/plain": [
       "' ###Hello World'"
      ]
     },
     "execution_count": 125,
     "metadata": {},
     "output_type": "execute_result"
    }
   ],
   "source": [
    "# if it encounters failure, it will stop removing\n",
    "\" ###Hello World####\".strip('#')"
   ]
  },
  {
   "cell_type": "code",
   "execution_count": 127,
   "id": "ed7f1710-d8e3-489c-bdc5-3637900f045d",
   "metadata": {},
   "outputs": [
    {
     "data": {
      "text/plain": [
       "'ello wor'"
      ]
     },
     "execution_count": 127,
     "metadata": {},
     "output_type": "execute_result"
    }
   ],
   "source": [
    "# removes the characters based on it's existence\n",
    "\"Hello world\".strip('ldoH') # output = 'ello wor'"
   ]
  },
  {
   "cell_type": "markdown",
   "id": "ccc915b1-551b-49b1-9517-a55deff3ec37",
   "metadata": {},
   "source": [
    "**lstrip() and rstrip()**"
   ]
  },
  {
   "cell_type": "code",
   "execution_count": 129,
   "id": "9df9c6ef-87ee-472d-b2e0-d2035512075c",
   "metadata": {},
   "outputs": [
    {
     "data": {
      "text/plain": [
       "'Hello World   '"
      ]
     },
     "execution_count": 129,
     "metadata": {},
     "output_type": "execute_result"
    }
   ],
   "source": [
    "# lstrip()\n",
    "\"   Hello World   \".lstrip()"
   ]
  },
  {
   "cell_type": "code",
   "execution_count": 130,
   "id": "57dea7bb-9adc-4635-b44f-bc6c8c8a5f68",
   "metadata": {},
   "outputs": [
    {
     "data": {
      "text/plain": [
       "'Hello World####'"
      ]
     },
     "execution_count": 130,
     "metadata": {},
     "output_type": "execute_result"
    }
   ],
   "source": [
    "# lstrip()\n",
    "\"###Hello World####\".lstrip('#')"
   ]
  },
  {
   "cell_type": "code",
   "execution_count": 131,
   "id": "78536c6c-5b43-4607-abfd-b152dd32260f",
   "metadata": {},
   "outputs": [],
   "source": [
    "# rstrip() will be similar but from right end"
   ]
  },
  {
   "cell_type": "markdown",
   "id": "e3f89cc0-4ba8-4b22-a700-b279a921c3f5",
   "metadata": {},
   "source": [
    "**Solve Problems**"
   ]
  },
  {
   "cell_type": "code",
   "execution_count": 138,
   "id": "712a9298-4aec-4748-8cb0-1468f2d4c320",
   "metadata": {},
   "outputs": [
    {
     "data": {
      "text/plain": [
       "'Solving problem is an art'"
      ]
     },
     "execution_count": 138,
     "metadata": {},
     "output_type": "execute_result"
    }
   ],
   "source": [
    "\" Solving problem is an art.  \".strip('. ') \n",
    "#o/p = 'Solving problem is an art'"
   ]
  },
  {
   "cell_type": "code",
   "execution_count": 139,
   "id": "5e2da25d-ef65-4ac8-952a-e0a0e232c4ea",
   "metadata": {},
   "outputs": [
    {
     "data": {
      "text/plain": [
       "' Solving problem is an art.  '"
      ]
     },
     "execution_count": 139,
     "metadata": {},
     "output_type": "execute_result"
    }
   ],
   "source": [
    "# nothing will be removed\n",
    "\" Solving problem is an art.  \".strip('') \n",
    "#o/p = ' Solving problem is an art.  '"
   ]
  },
  {
   "cell_type": "code",
   "execution_count": 136,
   "id": "0e6809c4-37a4-49d2-a2d2-5355366fd526",
   "metadata": {},
   "outputs": [
    {
     "data": {
      "text/plain": [
       "'Jaspreet  .'"
      ]
     },
     "execution_count": 136,
     "metadata": {},
     "output_type": "execute_result"
    }
   ],
   "source": [
    "str = \"I am Jaspreet  .\"\n",
    "str.lstrip('I am.') \n",
    "# o/p = 'Jaspreet  .'"
   ]
  },
  {
   "cell_type": "code",
   "execution_count": 137,
   "id": "47cc39d1-8d0a-4b0e-bed3-cc7f71767adc",
   "metadata": {},
   "outputs": [
    {
     "data": {
      "text/plain": [
       "'I am Jaspreet'"
      ]
     },
     "execution_count": 137,
     "metadata": {},
     "output_type": "execute_result"
    }
   ],
   "source": [
    "str = \"I am Jaspreet  .\"\n",
    "str.rstrip('I am.') \n",
    "# o/p = 'I am Jaspreet'"
   ]
  },
  {
   "cell_type": "code",
   "execution_count": 140,
   "id": "7c2216c9-ddf0-4d41-b5c9-4e91a1dc2426",
   "metadata": {},
   "outputs": [
    {
     "data": {
      "text/plain": [
       "' My name is Jaspreet'"
      ]
     },
     "execution_count": 140,
     "metadata": {},
     "output_type": "execute_result"
    }
   ],
   "source": [
    "\" My name is Jaspreet \".rstrip('my ')\n",
    "# o/p = ' My name is Jaspreet'"
   ]
  },
  {
   "cell_type": "markdown",
   "id": "0699784c-d0c8-4f3d-9138-c637d453043e",
   "metadata": {},
   "source": [
    "**split()**"
   ]
  },
  {
   "cell_type": "code",
   "execution_count": 151,
   "id": "1ded5cba-91ef-4d6d-9780-d1e54d33d6f9",
   "metadata": {},
   "outputs": [],
   "source": [
    "# Def : split a string into a list but starts with left\n",
    "# syntax : string.split(separator,maxsplit) \n",
    "# defaults\n",
    "    # - separator = ' '\n",
    "    # - maxsplit = -1 [ no limit on the number of splits ]"
   ]
  },
  {
   "cell_type": "code",
   "execution_count": 144,
   "id": "535c8f15-4922-48b3-a307-0d1135519851",
   "metadata": {},
   "outputs": [
    {
     "data": {
      "text/plain": [
       "['Hello!', 'I', 'am', 'Niladri']"
      ]
     },
     "execution_count": 144,
     "metadata": {},
     "output_type": "execute_result"
    }
   ],
   "source": [
    "str = \"Hello!$I$am$Niladri\"\n",
    "str.split('$')"
   ]
  },
  {
   "cell_type": "code",
   "execution_count": 146,
   "id": "e57e5adf-81c9-4cdf-a994-acdb9fa7daec",
   "metadata": {},
   "outputs": [
    {
     "data": {
      "text/plain": [
       "['Hello!', 'I', 'am$Niladri']"
      ]
     },
     "execution_count": 146,
     "metadata": {},
     "output_type": "execute_result"
    }
   ],
   "source": [
    "# 2 splits + rest of the string => will form one list\n",
    "str = \"Hello!$I$am$Niladri\"\n",
    "str.split('$',maxsplit=2)"
   ]
  },
  {
   "cell_type": "code",
   "execution_count": 148,
   "id": "50d2690e-8db5-4a81-8a58-168a3cdc1a87",
   "metadata": {},
   "outputs": [
    {
     "data": {
      "text/plain": [
       "['Hello', 'I', 'am', 'Niladri']"
      ]
     },
     "execution_count": 148,
     "metadata": {},
     "output_type": "execute_result"
    }
   ],
   "source": [
    "# default split with whitespace and no limit\n",
    "str = \"Hello I am Niladri\"\n",
    "str.split()"
   ]
  },
  {
   "cell_type": "markdown",
   "id": "2f115de8-02c1-44bb-821e-42014f13e840",
   "metadata": {},
   "source": [
    "**rsplit()**"
   ]
  },
  {
   "cell_type": "code",
   "execution_count": 149,
   "id": "1a432371-1700-4242-9117-0dec00f5dc56",
   "metadata": {},
   "outputs": [],
   "source": [
    "# def : will split from right\n",
    "# syntax : str.rsplit(separator,maxsplit)\n",
    "# defaults\n",
    "    # - separator = ' '\n",
    "    # - maxsplit = -1 [ no limit on the number of splits ]"
   ]
  },
  {
   "cell_type": "code",
   "execution_count": 150,
   "id": "fe35f309-a9d2-4085-934a-abbcb473ca3f",
   "metadata": {},
   "outputs": [
    {
     "data": {
      "text/plain": [
       "['Hello!$I', 'am', 'Niladri']"
      ]
     },
     "execution_count": 150,
     "metadata": {},
     "output_type": "execute_result"
    }
   ],
   "source": [
    "str = \"Hello!$I$am$Niladri\"\n",
    "str.rsplit('$',maxsplit=2)\n",
    "# o/p = [\"Hello!$I\",\"am\",\"Niladri\"]"
   ]
  },
  {
   "cell_type": "code",
   "execution_count": 154,
   "id": "ebca72bf-8ccf-41ec-bfc4-d05c43d59b45",
   "metadata": {},
   "outputs": [
    {
     "data": {
      "text/plain": [
       "['Hello!', 'I', 'am', 'Jaspreet']"
      ]
     },
     "execution_count": 154,
     "metadata": {},
     "output_type": "execute_result"
    }
   ],
   "source": [
    "# HW problem\n",
    "\"Hello! I am Jaspreet\".rsplit()\n",
    "# o/p = ['Hello!','I','am','Jaspreet']"
   ]
  },
  {
   "cell_type": "markdown",
   "id": "a5a122b2-336f-47dd-aab0-6feaf022d256",
   "metadata": {},
   "source": [
    "**join()**"
   ]
  },
  {
   "cell_type": "code",
   "execution_count": null,
   "id": "0f238069-ac34-47f3-96c9-19799a7c167e",
   "metadata": {},
   "outputs": [],
   "source": [
    "# def : used to join the elements of an iterable\n",
    "    # an iterable is an object which is capable of returning its members one a time\n",
    "    # e.g. : list, dictionary, tuple, set, string are iterables \n",
    "# syntax : separator.join(iterable)\n",
    "# defaults : n/a"
   ]
  },
  {
   "cell_type": "code",
   "execution_count": 13,
   "id": "2bbffd14-a249-4323-bf49-335d31df005c",
   "metadata": {},
   "outputs": [
    {
     "data": {
      "text/plain": [
       "'H-e-l-l-o'"
      ]
     },
     "execution_count": 13,
     "metadata": {},
     "output_type": "execute_result"
    }
   ],
   "source": [
    "# string usage for join()\n",
    "my_str = \"Hello\"\n",
    "\"-\".join(my_str)"
   ]
  },
  {
   "cell_type": "code",
   "execution_count": 156,
   "id": "312d26e4-e805-4396-8226-e044d23f50e2",
   "metadata": {},
   "outputs": [
    {
     "data": {
      "text/plain": [
       "'H-e-l-l-o'"
      ]
     },
     "execution_count": 156,
     "metadata": {},
     "output_type": "execute_result"
    }
   ],
   "source": [
    "# list usage for join()\n",
    "l1 = ['H','e','l','l','o']\n",
    "\"-\".join(l1)"
   ]
  },
  {
   "cell_type": "code",
   "execution_count": 4,
   "id": "7b36b656-57de-4f96-b9b6-ade8585dd989",
   "metadata": {},
   "outputs": [
    {
     "data": {
      "text/plain": [
       "'I am Rocky'"
      ]
     },
     "execution_count": 4,
     "metadata": {},
     "output_type": "execute_result"
    }
   ],
   "source": [
    "l2 = ['I', 'am', 'Rocky']\n",
    "' '.join(l2)"
   ]
  },
  {
   "cell_type": "code",
   "execution_count": 14,
   "id": "5ad27a14-9624-41aa-81f0-1d935a43cb38",
   "metadata": {},
   "outputs": [
    {
     "data": {
      "text/plain": [
       "'name and country'"
      ]
     },
     "execution_count": 14,
     "metadata": {},
     "output_type": "execute_result"
    }
   ],
   "source": [
    "# dict usage for join()\n",
    "d = {\n",
    "    'name' : 'Adam',\n",
    "    'country' : 'US'\n",
    "}\n",
    "\n",
    "# keys = name, country\n",
    "# values = Adam, US\n",
    "\n",
    "# joins only the keys\n",
    "' and '.join(d)"
   ]
  },
  {
   "cell_type": "code",
   "execution_count": 12,
   "id": "80e85065-528d-4b19-87c4-4e171f66a73b",
   "metadata": {},
   "outputs": [
    {
     "data": {
      "text/plain": [
       "'Adam-US'"
      ]
     },
     "execution_count": 12,
     "metadata": {},
     "output_type": "execute_result"
    }
   ],
   "source": [
    "# what if I want to join the values\n",
    "d = {\n",
    "    'name' : 'Adam',\n",
    "    'country' : 'US'\n",
    "}\n",
    "\n",
    "joined_values = []\n",
    "\n",
    "for val in d.values():\n",
    "    joined_values.append(str(val))  # Convert the integer value to a string\n",
    "\n",
    "\"-\".join(joined_values)"
   ]
  },
  {
   "cell_type": "markdown",
   "id": "c025aa3a-a192-4833-b1ce-06e58cea7412",
   "metadata": {},
   "source": [
    "**replace()**"
   ]
  },
  {
   "cell_type": "code",
   "execution_count": 15,
   "id": "05f0fa77-7d63-4dc2-afbf-37d5d3e4afe5",
   "metadata": {},
   "outputs": [],
   "source": [
    "# def : replace a specified string with another string\n",
    "# syntax : str.replace(oldString, newString, count)\n",
    "# defaults"
   ]
  },
  {
   "cell_type": "code",
   "execution_count": 18,
   "id": "1d94f12e-3c41-4c2e-a062-f4508ba97b25",
   "metadata": {},
   "outputs": [
    {
     "data": {
      "text/plain": [
       "'I love to eat mangoes mangoes mangoes'"
      ]
     },
     "execution_count": 18,
     "metadata": {},
     "output_type": "execute_result"
    }
   ],
   "source": [
    "# replace all old strings with new string\n",
    "s = \"I love to eat strawberries strawberries strawberries\"\n",
    "s.replace(\"strawberries\",\"mangoes\")"
   ]
  },
  {
   "cell_type": "code",
   "execution_count": 19,
   "id": "12af7a48-c2b7-4e8a-b5e5-a9c7572e8f4a",
   "metadata": {},
   "outputs": [
    {
     "data": {
      "text/plain": [
       "'I love to eat strawberries strawberries strawberries'"
      ]
     },
     "execution_count": 19,
     "metadata": {},
     "output_type": "execute_result"
    }
   ],
   "source": [
    "# but it does not change the original string\n",
    "s"
   ]
  },
  {
   "cell_type": "code",
   "execution_count": 21,
   "id": "d09f4905-e867-49a6-bf31-383b82d24952",
   "metadata": {},
   "outputs": [
    {
     "data": {
      "text/plain": [
       "'I love to eat mangoes mangoes strawberries'"
      ]
     },
     "execution_count": 21,
     "metadata": {},
     "output_type": "execute_result"
    }
   ],
   "source": [
    "# what if I want to replace 'strawberries' first 2 times\n",
    "s.replace(\"strawberries\",\"mangoes\",2)"
   ]
  },
  {
   "cell_type": "code",
   "execution_count": 22,
   "id": "d6fcd0ab-39e1-48d5-9a5b-ed236b3e4b14",
   "metadata": {},
   "outputs": [
    {
     "data": {
      "text/plain": [
       "'Neso Academy is the best Academy'"
      ]
     },
     "execution_count": 22,
     "metadata": {},
     "output_type": "execute_result"
    }
   ],
   "source": [
    "# HW problem 1\n",
    "s = \"Neso3Academy3is3the3best3Academy\"\n",
    "s.replace('3',' ')\n",
    "# o/p = \"Neso Academy is the best Academy\""
   ]
  },
  {
   "cell_type": "code",
   "execution_count": 25,
   "id": "bca35267-6d91-48a2-9349-9d6f202b131d",
   "metadata": {},
   "outputs": [
    {
     "data": {
      "text/plain": [
       "'[1, 2]'"
      ]
     },
     "execution_count": 25,
     "metadata": {},
     "output_type": "execute_result"
    }
   ],
   "source": [
    "# HW problem 2\n",
    "l = [1, 2]\n",
    "# Question : how to join the two integers of the above list without any space between them ?\n",
    "# joining the integers is not possible because join() works on string. this will work if the integers are converted into string\n",
    "''.join(str(l))"
   ]
  },
  {
   "cell_type": "markdown",
   "id": "dcd5805a-603c-4453-a13e-432a2165ed86",
   "metadata": {},
   "source": [
    "**upper()**"
   ]
  },
  {
   "cell_type": "code",
   "execution_count": 27,
   "id": "2b1115d6-add2-443b-88b4-42e541d55827",
   "metadata": {},
   "outputs": [],
   "source": [
    "# def : convert all letters into UPPER case\n",
    "# syntax : str.upper()\n",
    "# defaults : n/a"
   ]
  },
  {
   "cell_type": "code",
   "execution_count": 28,
   "id": "d1ff9e81-7a65-44ee-950c-dd5581df2899",
   "metadata": {},
   "outputs": [
    {
     "data": {
      "text/plain": [
       "'MY NAME IS NILADRI'"
      ]
     },
     "execution_count": 28,
     "metadata": {},
     "output_type": "execute_result"
    }
   ],
   "source": [
    "my_str = \"My name is Niladri\"\n",
    "my_str.upper()"
   ]
  },
  {
   "cell_type": "markdown",
   "id": "0a526afe-38d2-43ca-a5da-58458e96adc0",
   "metadata": {},
   "source": [
    "**lower()**"
   ]
  },
  {
   "cell_type": "code",
   "execution_count": null,
   "id": "89f27416-4255-4edf-8c56-1194c3eccca4",
   "metadata": {},
   "outputs": [],
   "source": [
    "# def : convert all letters into lower case\n",
    "# syntax : str.lower()\n",
    "# defaults : n/a"
   ]
  },
  {
   "cell_type": "code",
   "execution_count": 29,
   "id": "8b0649bc-e235-467f-888d-e47421b93e8b",
   "metadata": {},
   "outputs": [
    {
     "data": {
      "text/plain": [
       "'my name is niladri'"
      ]
     },
     "execution_count": 29,
     "metadata": {},
     "output_type": "execute_result"
    }
   ],
   "source": [
    "my_str = \"My name is Niladri\"\n",
    "my_str.lower()"
   ]
  },
  {
   "cell_type": "markdown",
   "id": "1fdc08fd-22d5-43dd-9f33-657da86726a5",
   "metadata": {},
   "source": [
    "**capitalize()**"
   ]
  },
  {
   "cell_type": "code",
   "execution_count": 31,
   "id": "aa02dbad-e29c-442b-8166-2200fec87548",
   "metadata": {},
   "outputs": [],
   "source": [
    "# def : returns a string where the first character is uppercase and rest are lowercase\n",
    "# syntax : str.capitalize()\n",
    "# defaults : n/a"
   ]
  },
  {
   "cell_type": "code",
   "execution_count": 32,
   "id": "4f7c5d48-39a4-44cd-a36c-5fb3b7921945",
   "metadata": {},
   "outputs": [
    {
     "data": {
      "text/plain": [
       "'My name is niladri'"
      ]
     },
     "execution_count": 32,
     "metadata": {},
     "output_type": "execute_result"
    }
   ],
   "source": [
    "my_str = \"My name is Niladri\"\n",
    "my_str.capitalize()"
   ]
  },
  {
   "cell_type": "code",
   "execution_count": 35,
   "id": "173a2b91-9c84-44f6-9d43-56fa584aafcb",
   "metadata": {},
   "outputs": [
    {
     "data": {
      "text/plain": [
       "'29 my name is niladri'"
      ]
     },
     "execution_count": 35,
     "metadata": {},
     "output_type": "execute_result"
    }
   ],
   "source": [
    "# the first letter is missing. no capitalization effect. but rest all characters are lowered\n",
    "my_str = \"29 My name is Niladri\"\n",
    "my_str.capitalize()"
   ]
  },
  {
   "cell_type": "markdown",
   "id": "7a25c90d-8b30-4b9a-a807-340f3e1ffab7",
   "metadata": {},
   "source": [
    "**isupper()**"
   ]
  },
  {
   "cell_type": "code",
   "execution_count": 40,
   "id": "ae6c9d53-a330-4eb5-b121-2bf01fc84cf6",
   "metadata": {},
   "outputs": [],
   "source": [
    "# def : Returns True if all eligible characters are UPPERCASE, otherwise returns False\n",
    "# syntax : str.isupper()\n",
    "# defaults : n/a"
   ]
  },
  {
   "cell_type": "code",
   "execution_count": 37,
   "id": "89d4bba8-dd10-4404-9ea3-68d82aa0d9cd",
   "metadata": {},
   "outputs": [
    {
     "data": {
      "text/plain": [
       "False"
      ]
     },
     "execution_count": 37,
     "metadata": {},
     "output_type": "execute_result"
    }
   ],
   "source": [
    "my_str = \"My name is Niladri\"\n",
    "my_str.isupper()"
   ]
  },
  {
   "cell_type": "code",
   "execution_count": 38,
   "id": "708507bd-ee19-4f5e-b5a1-edfda4e35506",
   "metadata": {},
   "outputs": [
    {
     "data": {
      "text/plain": [
       "True"
      ]
     },
     "execution_count": 38,
     "metadata": {},
     "output_type": "execute_result"
    }
   ],
   "source": [
    "my_str = \"MY NAME IS NILADRI\"\n",
    "my_str.isupper()"
   ]
  },
  {
   "cell_type": "code",
   "execution_count": 39,
   "id": "adb1328c-6489-499f-a51f-f0c4d3db97df",
   "metadata": {},
   "outputs": [
    {
     "data": {
      "text/plain": [
       "True"
      ]
     },
     "execution_count": 39,
     "metadata": {},
     "output_type": "execute_result"
    }
   ],
   "source": [
    "my_str = \"--- NILADRI\"\n",
    "my_str.isupper()"
   ]
  },
  {
   "cell_type": "markdown",
   "id": "6d35ecca-28bc-43e1-b8ec-70d77b0d2871",
   "metadata": {},
   "source": [
    "**islower()**"
   ]
  },
  {
   "cell_type": "code",
   "execution_count": 41,
   "id": "1bf3ab93-7e94-49d1-bdd1-bb233a67cc44",
   "metadata": {},
   "outputs": [],
   "source": [
    "# def : Returns True if all eligible characters are lowercase, otherwise returns False\n",
    "# syntax : str.isupper()\n",
    "# defaults : n/a"
   ]
  },
  {
   "cell_type": "code",
   "execution_count": 42,
   "id": "e3d6ee94-b1e3-4011-ab5a-a4bde61d4dab",
   "metadata": {},
   "outputs": [
    {
     "data": {
      "text/plain": [
       "False"
      ]
     },
     "execution_count": 42,
     "metadata": {},
     "output_type": "execute_result"
    }
   ],
   "source": [
    "\"HELLO FRIENDS\".islower()"
   ]
  },
  {
   "cell_type": "code",
   "execution_count": 43,
   "id": "24cc83ee-c7a5-4370-99ef-452d68618629",
   "metadata": {},
   "outputs": [
    {
     "data": {
      "text/plain": [
       "True"
      ]
     },
     "execution_count": 43,
     "metadata": {},
     "output_type": "execute_result"
    }
   ],
   "source": [
    "\"my name is niladri\".islower()"
   ]
  },
  {
   "cell_type": "markdown",
   "id": "93325e34-c187-479e-9ad2-720d610bc496",
   "metadata": {},
   "source": [
    "**isalpha()**"
   ]
  },
  {
   "cell_type": "code",
   "execution_count": null,
   "id": "9552fa16-6ce0-4d1a-86d9-aecfe5562925",
   "metadata": {},
   "outputs": [],
   "source": [
    "# def : returns True if all chars are alphabets\n",
    "# syntax : str.isalpha()\n",
    "# defaults : n/a"
   ]
  },
  {
   "cell_type": "code",
   "execution_count": 44,
   "id": "bb8f5ee6-a989-4bbb-a742-9e453e511a62",
   "metadata": {},
   "outputs": [
    {
     "data": {
      "text/plain": [
       "False"
      ]
     },
     "execution_count": 44,
     "metadata": {},
     "output_type": "execute_result"
    }
   ],
   "source": [
    "\"hello2\".isalpha()"
   ]
  },
  {
   "cell_type": "code",
   "execution_count": 45,
   "id": "7798a37a-a206-4afd-94b9-e624ac9903af",
   "metadata": {},
   "outputs": [
    {
     "data": {
      "text/plain": [
       "False"
      ]
     },
     "execution_count": 45,
     "metadata": {},
     "output_type": "execute_result"
    }
   ],
   "source": [
    "\"Hello my name is Niladri\".isalpha() # expected : False because of whitespace"
   ]
  },
  {
   "cell_type": "code",
   "execution_count": 46,
   "id": "f68accbe-6766-4d36-bcaa-ea885433d2e6",
   "metadata": {},
   "outputs": [
    {
     "data": {
      "text/plain": [
       "True"
      ]
     },
     "execution_count": 46,
     "metadata": {},
     "output_type": "execute_result"
    }
   ],
   "source": [
    "\"hellothere\".isalpha() # expected : True"
   ]
  },
  {
   "cell_type": "markdown",
   "id": "d0b7122c-b3cd-4efe-9e0a-526e1f255c3e",
   "metadata": {},
   "source": [
    "**isnumeric()**"
   ]
  },
  {
   "cell_type": "code",
   "execution_count": 47,
   "id": "8fe5a4c7-6a40-4882-a9d7-b8e09c4a051b",
   "metadata": {},
   "outputs": [],
   "source": [
    "# def : returns True for\n",
    "    # - decimal [ 0-9 ]\n",
    "    # - super / sub scripts\n",
    "    # - fractions\n",
    "    # - exponents\n",
    "# syntax : str.isnumeric()\n",
    "# defaults : n/a"
   ]
  },
  {
   "cell_type": "code",
   "execution_count": 54,
   "id": "1e3c702a-8b5d-4042-9c6c-ca9023966d8e",
   "metadata": {},
   "outputs": [
    {
     "name": "stdout",
     "output_type": "stream",
     "text": [
      "True\n",
      "False\n",
      "True\n",
      "True\n",
      "False\n",
      "False\n"
     ]
    }
   ],
   "source": [
    "print('012345'.isnumeric()) # Output = True\n",
    "print('Python3'.isnumeric()) # Output = False\n",
    "print('²3455'.isnumeric()) # Output = True - using superscript here\n",
    "print('½123'.isnumeric())  # Output = True - using fraction here\n",
    "print(\"2/4\".isnumeric()) # Output = False - looks like fraction but it is not. Interprets as string\n",
    "print(\"-3425\".isnumeric()) # Output = False - looks like -ve number but it is getting treated as \"-\" hiphen"
   ]
  },
  {
   "cell_type": "code",
   "execution_count": 51,
   "id": "3f29be92-47e0-4797-ae76-a37280758e10",
   "metadata": {},
   "outputs": [
    {
     "name": "stdout",
     "output_type": "stream",
     "text": [
      "False\n"
     ]
    }
   ],
   "source": [
    "print('3.14'.isnumeric()) # Output = False. encountered a \".\""
   ]
  },
  {
   "cell_type": "markdown",
   "id": "1698959a-b93f-4a3a-9a6e-1f67cd9c4be4",
   "metadata": {},
   "source": [
    "**isdecimal()**"
   ]
  },
  {
   "cell_type": "code",
   "execution_count": 49,
   "id": "73af720d-f994-47ef-8601-485809fcfbea",
   "metadata": {},
   "outputs": [],
   "source": [
    "# def : returns True for\n",
    "    # - decimal [ 0-9 ]\n",
    "# syntax : str.isdecimal()\n",
    "# defaults : n/a"
   ]
  },
  {
   "cell_type": "code",
   "execution_count": 50,
   "id": "16b6f2d0-3e24-454b-b875-a413b8afdf9a",
   "metadata": {},
   "outputs": [
    {
     "name": "stdout",
     "output_type": "stream",
     "text": [
      "False\n",
      "True\n"
     ]
    }
   ],
   "source": [
    "print('½123'.isdecimal()) # Output = False\n",
    "print('012345'.isnumeric()) # Output = True"
   ]
  },
  {
   "cell_type": "markdown",
   "id": "955f13b0-b216-4e64-a7f1-3e162b8bd27b",
   "metadata": {},
   "source": [
    "**isalnum()**"
   ]
  },
  {
   "cell_type": "code",
   "execution_count": 55,
   "id": "8edf2406-c17e-41ee-9f29-48f26294c8c2",
   "metadata": {},
   "outputs": [],
   "source": [
    "# def : returns True if all characters are alpha-numeric\n",
    "    # decimal [ 0-9 ]\n",
    "    # alphabets [a-z and A-Z] \n",
    "# syntax : str.isalnum()\n",
    "# defaults : n/a"
   ]
  },
  {
   "cell_type": "code",
   "execution_count": 56,
   "id": "a85054d0-3246-40b7-bc4f-56fcf3b1281d",
   "metadata": {},
   "outputs": [
    {
     "data": {
      "text/plain": [
       "True"
      ]
     },
     "execution_count": 56,
     "metadata": {},
     "output_type": "execute_result"
    }
   ],
   "source": [
    "\"Jaspreet20\".isalnum()"
   ]
  },
  {
   "cell_type": "code",
   "execution_count": 57,
   "id": "4b9ddfe8-77e3-4eca-ba78-8576376fc783",
   "metadata": {},
   "outputs": [
    {
     "data": {
      "text/plain": [
       "True"
      ]
     },
     "execution_count": 57,
     "metadata": {},
     "output_type": "execute_result"
    }
   ],
   "source": [
    "\"22335353\".isalnum()"
   ]
  },
  {
   "cell_type": "code",
   "execution_count": 58,
   "id": "dd99d9bd-d983-43d7-80ea-fffecc8d27a1",
   "metadata": {},
   "outputs": [
    {
     "data": {
      "text/plain": [
       "False"
      ]
     },
     "execution_count": 58,
     "metadata": {},
     "output_type": "execute_result"
    }
   ],
   "source": [
    "\"My name is Niladri\".isalnum() # white space issue"
   ]
  },
  {
   "cell_type": "markdown",
   "id": "ad8d73c8-e878-4cc1-8c46-4287b5b70e2c",
   "metadata": {},
   "source": [
    "**HW problem**"
   ]
  },
  {
   "cell_type": "code",
   "execution_count": 63,
   "id": "f11d75df-3168-4e86-89b8-a02fe06a6902",
   "metadata": {},
   "outputs": [
    {
     "data": {
      "text/plain": [
       "'SAM2345@GMAIL.COM'"
      ]
     },
     "execution_count": 63,
     "metadata": {},
     "output_type": "execute_result"
    }
   ],
   "source": [
    "\"sam2345@gmail.com\".upper() \n",
    "# o/p = SAM2345@GMAIL.COM"
   ]
  },
  {
   "cell_type": "code",
   "execution_count": 64,
   "id": "5a792ad9-f1fc-4283-9a10-c07bf2382c3b",
   "metadata": {},
   "outputs": [
    {
     "data": {
      "text/plain": [
       "True"
      ]
     },
     "execution_count": 64,
     "metadata": {},
     "output_type": "execute_result"
    }
   ],
   "source": [
    "\"sam2345@gmail.com\".islower()\n",
    "# o/p = True, eligible case sensitive characters are all lower"
   ]
  },
  {
   "cell_type": "code",
   "execution_count": 65,
   "id": "4248d986-78a9-4256-bb81-012b9bd4660b",
   "metadata": {},
   "outputs": [
    {
     "data": {
      "text/plain": [
       "False"
      ]
     },
     "execution_count": 65,
     "metadata": {},
     "output_type": "execute_result"
    }
   ],
   "source": [
    "\"sam2345@gmail.com\".isalnum()\n",
    "# o/p = False, because of @ and . character"
   ]
  },
  {
   "cell_type": "code",
   "execution_count": 66,
   "id": "830ce68a-2869-4581-8f02-8f6913dfd460",
   "metadata": {},
   "outputs": [
    {
     "data": {
      "text/plain": [
       "True"
      ]
     },
     "execution_count": 66,
     "metadata": {},
     "output_type": "execute_result"
    }
   ],
   "source": [
    "\"sam2345gmailcom\".isalnum()"
   ]
  },
  {
   "cell_type": "markdown",
   "id": "c5afce10-2a5d-49ad-a8ae-bb5a2cdf7102",
   "metadata": {},
   "source": [
    "**title()**"
   ]
  },
  {
   "cell_type": "code",
   "execution_count": null,
   "id": "163c8994-2538-4890-a803-b930779c13df",
   "metadata": {},
   "outputs": [],
   "source": [
    "# def : initcap all letters\n",
    "# syntax : str.title()\n",
    "# defaults : n/a"
   ]
  },
  {
   "cell_type": "code",
   "execution_count": 1,
   "id": "17cd0093-e84d-4ecf-8776-3823852f657a",
   "metadata": {},
   "outputs": [
    {
     "data": {
      "text/plain": [
       "'My Name Is Niladri'"
      ]
     },
     "execution_count": 1,
     "metadata": {},
     "output_type": "execute_result"
    }
   ],
   "source": [
    "str = \"my name is niladri\"\n",
    "str.title()"
   ]
  },
  {
   "cell_type": "markdown",
   "id": "6ffddf09-ef28-47a8-bb66-f329b8b299f9",
   "metadata": {},
   "source": [
    "**count()**"
   ]
  },
  {
   "cell_type": "code",
   "execution_count": 3,
   "id": "0bdfba3f-6d81-4a56-9168-a43106e6cd57",
   "metadata": {},
   "outputs": [],
   "source": [
    "# def \n",
    "    # - Finds the number of occurrences of a substring in a given string\n",
    "    # - if the substring is not found, -> returns 0\n",
    "# syntax : str.count(sub,start,end)\n",
    "# defaults : \n",
    "    # - sub = substring to be found, mandatory\n",
    "    # - start = start index, optional\n",
    "    # - end = end index, optional"
   ]
  },
  {
   "cell_type": "code",
   "execution_count": 5,
   "id": "653234f8-cf57-48ca-9a81-e58c2f11a05f",
   "metadata": {},
   "outputs": [
    {
     "data": {
      "text/plain": [
       "2"
      ]
     },
     "execution_count": 5,
     "metadata": {},
     "output_type": "execute_result"
    }
   ],
   "source": [
    "\"I love fruits, fruits make me healthy\".count('fruits')"
   ]
  },
  {
   "cell_type": "code",
   "execution_count": 6,
   "id": "fa993b2b-e31e-4877-a114-4370b073377c",
   "metadata": {},
   "outputs": [
    {
     "data": {
      "text/plain": [
       "0"
      ]
     },
     "execution_count": 6,
     "metadata": {},
     "output_type": "execute_result"
    }
   ],
   "source": [
    "\"I love fruits, fruits make me healthy\".count('fruits',1,5)"
   ]
  },
  {
   "cell_type": "code",
   "execution_count": 8,
   "id": "44fe74b5-8383-46ee-ac63-632404424a0c",
   "metadata": {},
   "outputs": [
    {
     "data": {
      "text/plain": [
       "1"
      ]
     },
     "execution_count": 8,
     "metadata": {},
     "output_type": "execute_result"
    }
   ],
   "source": [
    "\"I love fruits, fruits make me healthy\".count('fruits',1,13)"
   ]
  },
  {
   "cell_type": "markdown",
   "id": "0f591668-67a3-457a-9dad-c0a3efa379c6",
   "metadata": {},
   "source": [
    "**find()**"
   ]
  },
  {
   "cell_type": "code",
   "execution_count": 9,
   "id": "39702c21-4234-45a7-b19a-715aa6d82b8d",
   "metadata": {},
   "outputs": [],
   "source": [
    "# def \n",
    "    # Returns the index of the first occurrence of a substring in a given string\n",
    "    # if the substring is not found, -> returns -1\n",
    "# syntax : str.find(sub,start,end)\n",
    "# defaults : \n",
    "    # - sub = substring to be found, mandatory\n",
    "    # - start = start index, optional\n",
    "    # - end = end index, optional"
   ]
  },
  {
   "cell_type": "code",
   "execution_count": 10,
   "id": "5e2efd08-9db9-4fd6-a66a-0449fb08c258",
   "metadata": {},
   "outputs": [
    {
     "data": {
      "text/plain": [
       "12"
      ]
     },
     "execution_count": 10,
     "metadata": {},
     "output_type": "execute_result"
    }
   ],
   "source": [
    "\"Python is a beautiful language\".find('beau')"
   ]
  },
  {
   "cell_type": "code",
   "execution_count": 11,
   "id": "e9c912d5-ed9d-4bd4-be3e-9943c792adb6",
   "metadata": {},
   "outputs": [
    {
     "data": {
      "text/plain": [
       "6"
      ]
     },
     "execution_count": 11,
     "metadata": {},
     "output_type": "execute_result"
    }
   ],
   "source": [
    "\"Python is a beautiful language\".find(' ')"
   ]
  },
  {
   "cell_type": "code",
   "execution_count": 12,
   "id": "6a2dab3f-4ce4-4fcd-b061-e7d9b9333c07",
   "metadata": {},
   "outputs": [
    {
     "data": {
      "text/plain": [
       "-1"
      ]
     },
     "execution_count": 12,
     "metadata": {},
     "output_type": "execute_result"
    }
   ],
   "source": [
    "\"Python is a beautiful language\".find('nil')"
   ]
  },
  {
   "cell_type": "markdown",
   "id": "bb696117-9496-43cd-a148-ac54f68868f2",
   "metadata": {},
   "source": [
    "**rfind()**"
   ]
  },
  {
   "cell_type": "code",
   "execution_count": 13,
   "id": "32a2feff-92a9-4d86-8ba0-42bb6143b654",
   "metadata": {},
   "outputs": [],
   "source": [
    "# def \n",
    "    # Returns the index of the last occurrence of a substring in a given string\n",
    "    # if the substring is not found, -> returns -1\n",
    "# syntax : str.rfind(sub,start,end)\n",
    "# defaults : \n",
    "    # - sub = substring to be found, mandatory\n",
    "    # - start = start index, optional\n",
    "    # - end = end index, optional"
   ]
  },
  {
   "cell_type": "code",
   "execution_count": 14,
   "id": "3481fef0-2eab-4d84-9487-c51ad40077e3",
   "metadata": {},
   "outputs": [
    {
     "data": {
      "text/plain": [
       "29"
      ]
     },
     "execution_count": 14,
     "metadata": {},
     "output_type": "execute_result"
    }
   ],
   "source": [
    "\"Python is a beautiful language\".rfind('e')"
   ]
  },
  {
   "cell_type": "code",
   "execution_count": 15,
   "id": "08811126-a15b-4a70-bd62-36bf25ae2b66",
   "metadata": {},
   "outputs": [
    {
     "data": {
      "text/plain": [
       "-1"
      ]
     },
     "execution_count": 15,
     "metadata": {},
     "output_type": "execute_result"
    }
   ],
   "source": [
    "\"Python is a beautiful language\".rfind('e',1,5)"
   ]
  },
  {
   "cell_type": "markdown",
   "id": "4cd82e7b-4e07-4d06-a659-2634ef5cbdbe",
   "metadata": {},
   "source": [
    "**index()**"
   ]
  },
  {
   "cell_type": "code",
   "execution_count": 16,
   "id": "f050ec35-3e40-4721-901c-a7c4132612f6",
   "metadata": {},
   "outputs": [],
   "source": [
    "# def \n",
    "    # Returns the index of the first occurrence of a substring in a given string. Same like find()\n",
    "    # if the substring is not found, -> returns ValueError exception, find() returns -1\n",
    "# syntax : str.index(sub,start,end)\n",
    "# defaults : \n",
    "    # - sub = substring to be found, mandatory\n",
    "    # - start = start index, optional\n",
    "    # - end = end index, optional"
   ]
  },
  {
   "cell_type": "code",
   "execution_count": 17,
   "id": "1dc22e3e-0a3f-49b2-bbc2-8660cb25f496",
   "metadata": {},
   "outputs": [
    {
     "data": {
      "text/plain": [
       "12"
      ]
     },
     "execution_count": 17,
     "metadata": {},
     "output_type": "execute_result"
    }
   ],
   "source": [
    "\"Python is a beautiful language\".index('b')"
   ]
  },
  {
   "cell_type": "code",
   "execution_count": 18,
   "id": "9c36c138-0400-48c0-a508-1822eab4262c",
   "metadata": {},
   "outputs": [
    {
     "ename": "ValueError",
     "evalue": "substring not found",
     "output_type": "error",
     "traceback": [
      "\u001b[0;31m---------------------------------------------------------------------------\u001b[0m",
      "\u001b[0;31mValueError\u001b[0m                                Traceback (most recent call last)",
      "Cell \u001b[0;32mIn[18], line 1\u001b[0m\n\u001b[0;32m----> 1\u001b[0m \u001b[38;5;124m\"\u001b[39m\u001b[38;5;124mPython is a beautiful language\u001b[39m\u001b[38;5;124m\"\u001b[39m\u001b[38;5;241m.\u001b[39mindex(\u001b[38;5;124m'\u001b[39m\u001b[38;5;124mb\u001b[39m\u001b[38;5;124m'\u001b[39m,\u001b[38;5;241m1\u001b[39m,\u001b[38;5;241m5\u001b[39m)\n",
      "\u001b[0;31mValueError\u001b[0m: substring not found"
     ]
    }
   ],
   "source": [
    "\"Python is a beautiful language\".index('b',1,5)"
   ]
  },
  {
   "cell_type": "markdown",
   "id": "2c25b52c-4901-4e58-b961-bb9e780fec73",
   "metadata": {},
   "source": [
    "**rindex()**"
   ]
  },
  {
   "cell_type": "code",
   "execution_count": 19,
   "id": "0d137ecc-6111-463b-893e-d8cfb5e83c33",
   "metadata": {},
   "outputs": [],
   "source": [
    "# def \n",
    "    # Returns the index of the last occurrence of a substring in a given string. Same like rfind()\n",
    "    # if the substring is not found, -> returns ValueError exception, rfind() returns -1\n",
    "# syntax : str.rindex(sub,start,end)\n",
    "# defaults : \n",
    "    # - sub = substring to be found, mandatory\n",
    "    # - start = start index, optional\n",
    "    # - end = end index, optional"
   ]
  },
  {
   "cell_type": "code",
   "execution_count": 20,
   "id": "15a4cb64-c7be-429e-99f7-4e09e601f8df",
   "metadata": {},
   "outputs": [
    {
     "data": {
      "text/plain": [
       "29"
      ]
     },
     "execution_count": 20,
     "metadata": {},
     "output_type": "execute_result"
    }
   ],
   "source": [
    "\"Python is a beautiful language\".rindex('e')"
   ]
  },
  {
   "cell_type": "code",
   "execution_count": 21,
   "id": "aa62df69-c330-481f-9d0e-561e55e9cd6e",
   "metadata": {},
   "outputs": [
    {
     "ename": "ValueError",
     "evalue": "substring not found",
     "output_type": "error",
     "traceback": [
      "\u001b[0;31m---------------------------------------------------------------------------\u001b[0m",
      "\u001b[0;31mValueError\u001b[0m                                Traceback (most recent call last)",
      "Cell \u001b[0;32mIn[21], line 1\u001b[0m\n\u001b[0;32m----> 1\u001b[0m \u001b[38;5;124m\"\u001b[39m\u001b[38;5;124mPython is a beautiful language\u001b[39m\u001b[38;5;124m\"\u001b[39m\u001b[38;5;241m.\u001b[39mrindex(\u001b[38;5;124m'\u001b[39m\u001b[38;5;124me\u001b[39m\u001b[38;5;124m'\u001b[39m,\u001b[38;5;241m1\u001b[39m,\u001b[38;5;241m5\u001b[39m)\n",
      "\u001b[0;31mValueError\u001b[0m: substring not found"
     ]
    }
   ],
   "source": [
    "\"Python is a beautiful language\".rindex('e',1,5)"
   ]
  },
  {
   "cell_type": "code",
   "execution_count": 23,
   "id": "8ec1ad79-7dc5-414d-a052-11e9fb25e12d",
   "metadata": {},
   "outputs": [
    {
     "data": {
      "text/plain": [
       "13"
      ]
     },
     "execution_count": 23,
     "metadata": {},
     "output_type": "execute_result"
    }
   ],
   "source": [
    "# HW problems\n",
    "\"This is a string\".rindex('i') # ans = 13"
   ]
  },
  {
   "cell_type": "code",
   "execution_count": 24,
   "id": "61adfa44-fef3-4c2f-a9ad-64cc89c28aec",
   "metadata": {},
   "outputs": [
    {
     "data": {
      "text/plain": [
       "11"
      ]
     },
     "execution_count": 24,
     "metadata": {},
     "output_type": "execute_result"
    }
   ],
   "source": [
    "\"sam2345@gmail.com\".find('i') # ans = 11"
   ]
  },
  {
   "cell_type": "code",
   "execution_count": 25,
   "id": "c3d98bc0-8fc7-4fd1-a019-624f81b73fb0",
   "metadata": {},
   "outputs": [
    {
     "ename": "ValueError",
     "evalue": "substring not found",
     "output_type": "error",
     "traceback": [
      "\u001b[0;31m---------------------------------------------------------------------------\u001b[0m",
      "\u001b[0;31mValueError\u001b[0m                                Traceback (most recent call last)",
      "Cell \u001b[0;32mIn[25], line 1\u001b[0m\n\u001b[0;32m----> 1\u001b[0m \u001b[38;5;124m\"\u001b[39m\u001b[38;5;124mI love Python\u001b[39m\u001b[38;5;124m\"\u001b[39m\u001b[38;5;241m.\u001b[39mindex(\u001b[38;5;124m'\u001b[39m\u001b[38;5;124mp\u001b[39m\u001b[38;5;124m'\u001b[39m)\n",
      "\u001b[0;31mValueError\u001b[0m: substring not found"
     ]
    }
   ],
   "source": [
    "\"I love Python\".index('p') # ans = ValueError exception"
   ]
  },
  {
   "cell_type": "code",
   "execution_count": 26,
   "id": "9cf2be31-195f-4f31-836c-07c18d0cadb4",
   "metadata": {},
   "outputs": [
    {
     "data": {
      "text/plain": [
       "2"
      ]
     },
     "execution_count": 26,
     "metadata": {},
     "output_type": "execute_result"
    }
   ],
   "source": [
    "\"I love Python\".count('o') # ans = 2"
   ]
  },
  {
   "cell_type": "code",
   "execution_count": null,
   "id": "ec5e9417-c235-4536-80a2-88910a52f9f2",
   "metadata": {},
   "outputs": [],
   "source": []
  }
 ],
 "metadata": {
  "kernelspec": {
   "display_name": "Python 3 (ipykernel)",
   "language": "python",
   "name": "python3"
  },
  "language_info": {
   "codemirror_mode": {
    "name": "ipython",
    "version": 3
   },
   "file_extension": ".py",
   "mimetype": "text/x-python",
   "name": "python",
   "nbconvert_exporter": "python",
   "pygments_lexer": "ipython3",
   "version": "3.12.4"
  }
 },
 "nbformat": 4,
 "nbformat_minor": 5
}
