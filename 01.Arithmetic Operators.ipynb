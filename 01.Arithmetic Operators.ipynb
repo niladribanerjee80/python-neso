{
  "cells": [
    {
      "cell_type": "markdown",
      "metadata": {
        "id": "view-in-github",
        "colab_type": "text"
      },
      "source": [
        "<a href=\"https://colab.research.google.com/github/niladribanerjee80/python-neso/blob/main/01.Arithmetic%20Operators.ipynb\" target=\"_parent\"><img src=\"https://colab.research.google.com/assets/colab-badge.svg\" alt=\"Open In Colab\"/></a>"
      ]
    },
    {
      "cell_type": "code",
      "execution_count": null,
      "id": "1cd5a222-b0fd-4866-a765-ddab3eddca4b",
      "metadata": {
        "id": "1cd5a222-b0fd-4866-a765-ddab3eddca4b"
      },
      "outputs": [],
      "source": [
        "# Topics\n",
        "    # Understanding REPL = Read, Evaluate, Print and Loop\n",
        "    # Using REPL as calculator\n",
        "    # Arithmetic operators in Python\n",
        "    # Precedence of Arithmetic operators\n",
        "    # A simple example"
      ]
    },
    {
      "cell_type": "code",
      "execution_count": null,
      "id": "c2a8ae31-7a31-40fe-9c76-e9b3d11d619a",
      "metadata": {
        "id": "c2a8ae31-7a31-40fe-9c76-e9b3d11d619a"
      },
      "outputs": [],
      "source": [
        "# Understanding REPL\n",
        "    # Python interactive shell (>>>)\n",
        "    # Read, Evaluate, Print and Loop"
      ]
    },
    {
      "cell_type": "code",
      "execution_count": null,
      "id": "f51320f3-7cf2-47f9-a245-a9dbbd4e795e",
      "metadata": {
        "id": "f51320f3-7cf2-47f9-a245-a9dbbd4e795e"
      },
      "outputs": [],
      "source": [
        "# Using REPL as calculator"
      ]
    },
    {
      "cell_type": "code",
      "execution_count": null,
      "id": "0b39efc2-f664-4840-80d3-1711c687cb2c",
      "metadata": {
        "id": "0b39efc2-f664-4840-80d3-1711c687cb2c",
        "outputId": "2768d9b4-ce68-4b70-9d02-a88e82cb7284"
      },
      "outputs": [
        {
          "data": {
            "text/plain": [
              "15"
            ]
          },
          "execution_count": 4,
          "metadata": {},
          "output_type": "execute_result"
        }
      ],
      "source": [
        "10 + 5"
      ]
    },
    {
      "cell_type": "code",
      "execution_count": null,
      "id": "63f1df81-81cf-4e92-a3da-410bccf08271",
      "metadata": {
        "id": "63f1df81-81cf-4e92-a3da-410bccf08271",
        "outputId": "c7f51efc-f772-4f97-e906-2270efeeecf9"
      },
      "outputs": [
        {
          "data": {
            "text/plain": [
              "5"
            ]
          },
          "execution_count": 5,
          "metadata": {},
          "output_type": "execute_result"
        }
      ],
      "source": [
        "10 - 5"
      ]
    },
    {
      "cell_type": "code",
      "execution_count": null,
      "id": "a3088433-4d8c-4e4c-a95a-e89998526cf6",
      "metadata": {
        "id": "a3088433-4d8c-4e4c-a95a-e89998526cf6"
      },
      "outputs": [],
      "source": [
        "# Arithmetic operators in Python"
      ]
    },
    {
      "cell_type": "code",
      "execution_count": null,
      "id": "ae22bd4d-2b29-4271-9513-08be00e864c5",
      "metadata": {
        "id": "ae22bd4d-2b29-4271-9513-08be00e864c5"
      },
      "outputs": [],
      "source": [
        "    # 1. ** => Exponent\n",
        "    # 2. %  => Modulus (get remainder)\n",
        "    # 3. // => Floor Division (get quotient)\n",
        "    # 4. /  => Division (implicit float conversion)\n",
        "    # 5. *  => Multiplication\n",
        "    # 6. -  => Subtraction\n",
        "    # 7. +  => Addition"
      ]
    },
    {
      "cell_type": "code",
      "execution_count": null,
      "id": "3264c956-a28b-4990-8857-9f7017273d55",
      "metadata": {
        "id": "3264c956-a28b-4990-8857-9f7017273d55",
        "outputId": "f5bbfe1d-854c-45d0-fb6a-cd6ff0d3cce9"
      },
      "outputs": [
        {
          "data": {
            "text/plain": [
              "8"
            ]
          },
          "execution_count": 22,
          "metadata": {},
          "output_type": "execute_result"
        }
      ],
      "source": [
        "# 1. ** => Exponent\n",
        "\n",
        "2 ** 3"
      ]
    },
    {
      "cell_type": "code",
      "execution_count": null,
      "id": "ea136cfc-6563-41fb-b22c-c992cd7361d1",
      "metadata": {
        "id": "ea136cfc-6563-41fb-b22c-c992cd7361d1",
        "outputId": "9aa5b0e9-d282-46f5-a4e8-ce50390ff5ce"
      },
      "outputs": [
        {
          "data": {
            "text/plain": [
              "1"
            ]
          },
          "execution_count": 23,
          "metadata": {},
          "output_type": "execute_result"
        }
      ],
      "source": [
        "# 2. %  => Modulus (get remainder)\n",
        "\n",
        "3 % 2"
      ]
    },
    {
      "cell_type": "code",
      "execution_count": null,
      "id": "503255b0-dc0f-4ad0-94f0-0d2e3dd0db05",
      "metadata": {
        "id": "503255b0-dc0f-4ad0-94f0-0d2e3dd0db05",
        "outputId": "2d31a765-2e1a-41a0-f950-63dc60fefd1b"
      },
      "outputs": [
        {
          "data": {
            "text/plain": [
              "1"
            ]
          },
          "execution_count": 29,
          "metadata": {},
          "output_type": "execute_result"
        }
      ],
      "source": [
        "# 3. // => Floor Division (get quotient)\n",
        "\n",
        "8 // 5"
      ]
    },
    {
      "cell_type": "code",
      "execution_count": null,
      "id": "ed319f54-501d-4dc8-b9d1-cd63f1f929f8",
      "metadata": {
        "id": "ed319f54-501d-4dc8-b9d1-cd63f1f929f8",
        "outputId": "675d0aa5-7390-46d7-f46e-1badbdaaac7e"
      },
      "outputs": [
        {
          "data": {
            "text/plain": [
              "1.0"
            ]
          },
          "execution_count": 30,
          "metadata": {},
          "output_type": "execute_result"
        }
      ],
      "source": [
        "# 3. // => Floor Division (get quotient)\n",
        "\n",
        "8.3 // 5"
      ]
    },
    {
      "cell_type": "code",
      "execution_count": null,
      "id": "b9f7ea9f-4eae-4792-8c32-be75af5292c0",
      "metadata": {
        "id": "b9f7ea9f-4eae-4792-8c32-be75af5292c0",
        "outputId": "3d498bbc-ad11-4035-ea94-6ed187400728"
      },
      "outputs": [
        {
          "data": {
            "text/plain": [
              "2.0"
            ]
          },
          "execution_count": 25,
          "metadata": {},
          "output_type": "execute_result"
        }
      ],
      "source": [
        "# 4. /  => Division (implicit float conversion)\n",
        "\n",
        "4 / 2"
      ]
    },
    {
      "cell_type": "code",
      "execution_count": null,
      "id": "206ec57c-f5c5-499f-93d9-34dc69b986be",
      "metadata": {
        "id": "206ec57c-f5c5-499f-93d9-34dc69b986be",
        "outputId": "1d0236d1-0388-49a4-fc0d-f1d398caee78"
      },
      "outputs": [
        {
          "data": {
            "text/plain": [
              "36"
            ]
          },
          "execution_count": 26,
          "metadata": {},
          "output_type": "execute_result"
        }
      ],
      "source": [
        "# 5. *  => Multiplication\n",
        "\n",
        "6 * 6"
      ]
    },
    {
      "cell_type": "code",
      "execution_count": null,
      "id": "ba042e60-995a-46f7-b161-6cfa828c1023",
      "metadata": {
        "id": "ba042e60-995a-46f7-b161-6cfa828c1023",
        "outputId": "32d678dd-8d64-476a-fba8-f9292fbd33cf"
      },
      "outputs": [
        {
          "data": {
            "text/plain": [
              "3"
            ]
          },
          "execution_count": 27,
          "metadata": {},
          "output_type": "execute_result"
        }
      ],
      "source": [
        "# 6. -  => Subtraction\n",
        "\n",
        "5 - 2"
      ]
    },
    {
      "cell_type": "code",
      "execution_count": null,
      "id": "e6b18002-38db-4c5c-86da-fa0fc40f8abe",
      "metadata": {
        "id": "e6b18002-38db-4c5c-86da-fa0fc40f8abe",
        "outputId": "6b905000-2459-46c1-9bdc-da8852bfe2d5"
      },
      "outputs": [
        {
          "data": {
            "text/plain": [
              "17"
            ]
          },
          "execution_count": 28,
          "metadata": {},
          "output_type": "execute_result"
        }
      ],
      "source": [
        "# 7. +  => Addition\n",
        "\n",
        "8 + 9"
      ]
    },
    {
      "cell_type": "code",
      "execution_count": null,
      "id": "70b8fe1d-f08d-4269-a988-f34130acbd0e",
      "metadata": {
        "id": "70b8fe1d-f08d-4269-a988-f34130acbd0e"
      },
      "outputs": [],
      "source": [
        "# Precedence of Arithmetic operators\n",
        "      #   1.      **\n",
        "      #   2.   % // / *\n",
        "      #   3.      + -"
      ]
    },
    {
      "cell_type": "code",
      "execution_count": null,
      "id": "941d39e1-9cb7-441b-846b-1c9726f8fd4e",
      "metadata": {
        "id": "941d39e1-9cb7-441b-846b-1c9726f8fd4e",
        "outputId": "68315d6d-cb4e-4fd6-cf0f-6e3f7fd9903b"
      },
      "outputs": [
        {
          "data": {
            "text/plain": [
              "15"
            ]
          },
          "execution_count": 35,
          "metadata": {},
          "output_type": "execute_result"
        }
      ],
      "source": [
        "# A simple example\n",
        "\n",
        "10 + 5 ** 2 // 5\n",
        "\n",
        "# Steps\n",
        "    # 10 + 25 // 5\n",
        "    # 10 + 5\n",
        "    # 15"
      ]
    },
    {
      "cell_type": "markdown",
      "id": "03649b90-68b1-407a-b791-877df351bfe2",
      "metadata": {
        "id": "03649b90-68b1-407a-b791-877df351bfe2"
      },
      "source": [
        "# Precedence and Associativity of Operators\n",
        "\n",
        "What is an operator?\n",
        "An operator is a special symbol that perform an operation on operands\n",
        "\n",
        "3 + 4 = 7\n",
        "\n",
        "Here\n",
        "- 3 and 4 => operands ( value or variable on which operation occurs ) \\\n",
        "'+' => operator\n",
        "\n",
        "## List of Arithmetic operators\n",
        "\n",
        "1. Addition and unary plus (+)\n",
        "2. Subtraction and unary minus (-)\n",
        "3. multiplication (*)\n",
        "4. Division (/)\n",
        "5. Floor division (//)\n",
        "6. Modulus (%)\n",
        "7. Power (**)"
      ]
    },
    {
      "cell_type": "code",
      "execution_count": null,
      "id": "a88e6d0d-4e66-4765-93ae-8ccd1fcf39a3",
      "metadata": {
        "id": "a88e6d0d-4e66-4765-93ae-8ccd1fcf39a3"
      },
      "outputs": [],
      "source": [
        "# 1. unary plus (+)\n",
        "# unary = operating on 1 operand only"
      ]
    },
    {
      "cell_type": "code",
      "execution_count": null,
      "id": "bd8eb41c-6818-4118-9e91-ab3edd572f80",
      "metadata": {
        "id": "bd8eb41c-6818-4118-9e91-ab3edd572f80",
        "outputId": "dfcbd380-f17b-47bd-9758-a4b7aac66c5f"
      },
      "outputs": [
        {
          "data": {
            "text/plain": [
              "-10"
            ]
          },
          "execution_count": 3,
          "metadata": {},
          "output_type": "execute_result"
        }
      ],
      "source": [
        "x = -10\n",
        "y = +(x)\n",
        "y"
      ]
    },
    {
      "cell_type": "code",
      "execution_count": null,
      "id": "4dd01c2f-753c-4eb7-9369-4a5d6102a6ea",
      "metadata": {
        "id": "4dd01c2f-753c-4eb7-9369-4a5d6102a6ea"
      },
      "outputs": [],
      "source": [
        "# 2. unary minus (-)"
      ]
    },
    {
      "cell_type": "code",
      "execution_count": null,
      "id": "03c10297-a74c-4aa8-883f-19286a59ca19",
      "metadata": {
        "id": "03c10297-a74c-4aa8-883f-19286a59ca19",
        "outputId": "79940581-48b3-476c-b7be-3f23541a196f"
      },
      "outputs": [
        {
          "data": {
            "text/plain": [
              "10"
            ]
          },
          "execution_count": 5,
          "metadata": {},
          "output_type": "execute_result"
        }
      ],
      "source": [
        "x = -10\n",
        "y = -(x)\n",
        "y"
      ]
    },
    {
      "cell_type": "code",
      "execution_count": null,
      "id": "8e5f8cad-6c0d-48ff-a1ca-55fa1cd505a1",
      "metadata": {
        "id": "8e5f8cad-6c0d-48ff-a1ca-55fa1cd505a1",
        "outputId": "ff8a8071-296d-47cf-e710-16c5f54dcc4e"
      },
      "outputs": [
        {
          "data": {
            "text/plain": [
              "11"
            ]
          },
          "execution_count": 7,
          "metadata": {},
          "output_type": "execute_result"
        }
      ],
      "source": [
        "# addition\n",
        "7 + 4"
      ]
    },
    {
      "cell_type": "code",
      "execution_count": null,
      "id": "79f91ee8-49d8-4c1a-8352-d44600842648",
      "metadata": {
        "id": "79f91ee8-49d8-4c1a-8352-d44600842648",
        "outputId": "765d0600-bb34-452d-afd2-59cbc0756a00"
      },
      "outputs": [
        {
          "data": {
            "text/plain": [
              "3"
            ]
          },
          "execution_count": 8,
          "metadata": {},
          "output_type": "execute_result"
        }
      ],
      "source": [
        "# subtraction\n",
        "7 - 4"
      ]
    },
    {
      "cell_type": "code",
      "execution_count": null,
      "id": "2d9e3d9c-b66c-4147-a77d-22ee6e95984b",
      "metadata": {
        "id": "2d9e3d9c-b66c-4147-a77d-22ee6e95984b",
        "outputId": "b87cda71-633a-4624-d583-2e585cf029bc"
      },
      "outputs": [
        {
          "data": {
            "text/plain": [
              "12"
            ]
          },
          "execution_count": 9,
          "metadata": {},
          "output_type": "execute_result"
        }
      ],
      "source": [
        "# multiplication\n",
        "3 * 4"
      ]
    },
    {
      "cell_type": "code",
      "execution_count": null,
      "id": "76162972-6fd2-4eab-90f4-83714ffd8f75",
      "metadata": {
        "id": "76162972-6fd2-4eab-90f4-83714ffd8f75",
        "outputId": "dd4a7d6f-6a03-4fd1-bbf0-134bdbe70415"
      },
      "outputs": [
        {
          "data": {
            "text/plain": [
              "5.0"
            ]
          },
          "execution_count": 10,
          "metadata": {},
          "output_type": "execute_result"
        }
      ],
      "source": [
        "# division = this will result in float\n",
        "10 / 2"
      ]
    },
    {
      "cell_type": "code",
      "execution_count": null,
      "id": "f989a469-7c54-466a-8262-aec98351671f",
      "metadata": {
        "id": "f989a469-7c54-466a-8262-aec98351671f",
        "outputId": "55b4edd8-41ab-45a3-cdc2-c9742e0d9908"
      },
      "outputs": [
        {
          "data": {
            "text/plain": [
              "2"
            ]
          },
          "execution_count": 11,
          "metadata": {},
          "output_type": "execute_result"
        }
      ],
      "source": [
        "# floor division = gives quotient\n",
        "15 // 7"
      ]
    },
    {
      "cell_type": "code",
      "execution_count": null,
      "id": "7073dd49-75e3-4295-bf2c-c187c26657ac",
      "metadata": {
        "id": "7073dd49-75e3-4295-bf2c-c187c26657ac",
        "outputId": "67c7220c-e810-49db-c8bc-c3cc2aea8004"
      },
      "outputs": [
        {
          "data": {
            "text/plain": [
              "1"
            ]
          },
          "execution_count": 12,
          "metadata": {},
          "output_type": "execute_result"
        }
      ],
      "source": [
        "# modulus = % gives remainder\n",
        "15 % 7"
      ]
    },
    {
      "cell_type": "code",
      "execution_count": null,
      "id": "83c3a064-4608-4e2b-bd9e-85f6fe4ef8c5",
      "metadata": {
        "id": "83c3a064-4608-4e2b-bd9e-85f6fe4ef8c5",
        "outputId": "962aa2c2-461c-4da5-99b1-d60137274a50"
      },
      "outputs": [
        {
          "data": {
            "text/plain": [
              "8"
            ]
          },
          "execution_count": 13,
          "metadata": {},
          "output_type": "execute_result"
        }
      ],
      "source": [
        "# power operator (**)\n",
        "2 ** 3"
      ]
    },
    {
      "cell_type": "markdown",
      "id": "72dbd43b-74ad-4718-b432-c9f53b45aef0",
      "metadata": {
        "id": "72dbd43b-74ad-4718-b432-c9f53b45aef0"
      },
      "source": [
        "## Precedence and Associativity\n",
        "\n",
        "**Precedence** - tells us the order in which the operations should be performed \\\n",
        "**Associativity** - tells us the the order of evaluation of precedence is same\n",
        "\n",
        "| Operator        | Associativity |\n",
        "| -------------   | ------------- |\n",
        "| ()              | Left to Right |\n",
        "| **              | Right to Left |\n",
        "| +x and -x       | Left to Right |\n",
        "| *, /, //, %     | Left to Right |\n",
        "| +, -            | Left to Right |"
      ]
    },
    {
      "cell_type": "code",
      "execution_count": null,
      "id": "5149eac0-22c4-47d2-bf81-1a432b904151",
      "metadata": {
        "id": "5149eac0-22c4-47d2-bf81-1a432b904151",
        "outputId": "a3a4dc09-4107-4c26-ac09-0b28121816e2"
      },
      "outputs": [
        {
          "data": {
            "text/plain": [
              "11.0"
            ]
          },
          "execution_count": 14,
          "metadata": {},
          "output_type": "execute_result"
        }
      ],
      "source": [
        "10 + 5 - 8 / 2\n",
        "# steps\n",
        "    # 10 + 5 - 4.0\n",
        "    # 15 - 4.0\n",
        "    # 11.0"
      ]
    },
    {
      "cell_type": "code",
      "execution_count": null,
      "id": "6d95ab19-e78a-476c-99cb-d750a3e8765f",
      "metadata": {
        "id": "6d95ab19-e78a-476c-99cb-d750a3e8765f",
        "outputId": "46a2befa-52de-4b69-9946-65686544ec61"
      },
      "outputs": [
        {
          "data": {
            "text/plain": [
              "7515.0"
            ]
          },
          "execution_count": 15,
          "metadata": {},
          "output_type": "execute_result"
        }
      ],
      "source": [
        "15 + 3 / 4 * 10 ** 2 ** 2\n",
        "# steps\n",
        "    # 15 + 3 / 4 * 10 ** 2 ** 2\n",
        "    # 15 + 3 / 4 * 10 ** 4\n",
        "    # 15 + 3 / 4 * 10000\n",
        "    # 15 + 30000 / 4\n",
        "    # 15 + 7500.0\n",
        "    # 7515.0"
      ]
    },
    {
      "cell_type": "markdown",
      "id": "b5e4436e-f1a1-4ad3-9971-08dfc91c9575",
      "metadata": {
        "id": "b5e4436e-f1a1-4ad3-9971-08dfc91c9575"
      },
      "source": [
        "## Sample markdown tables"
      ]
    },
    {
      "cell_type": "markdown",
      "id": "790d004d-b6e5-4593-96bc-40c906da9809",
      "metadata": {
        "id": "790d004d-b6e5-4593-96bc-40c906da9809"
      },
      "source": [
        "| Left         | Centered         | Right                      |\n",
        "| :----------- | :--------------: | -------------------------: |\n",
        "| This is left | Text is centered | And this is right-aligned  |\n",
        "| More text    | Even more text   | And even more to the right |\n",
        "\n",
        "\n",
        "| Name    | Location     | Food    |\n",
        "| ------- | ------------ | ------- |\n",
        "| Alice   | New York     | Pizza   |\n",
        "| Bob     | Paris        | Crepes  |\n",
        "| Carol   | London       | Sushi   |\n",
        "| David   | Berlin       | Pasta   |"
      ]
    },
    {
      "cell_type": "markdown",
      "id": "68631d44-81e7-413f-adcf-fe81d7b61991",
      "metadata": {
        "id": "68631d44-81e7-413f-adcf-fe81d7b61991"
      },
      "source": [
        "#### Binary to Decimal"
      ]
    },
    {
      "cell_type": "code",
      "execution_count": null,
      "id": "4560b70c-8d7d-4ffe-b826-36489a4fcfee",
      "metadata": {
        "id": "4560b70c-8d7d-4ffe-b826-36489a4fcfee",
        "outputId": "8d430ea6-9560-4cf0-9df1-4f1270e4ad74"
      },
      "outputs": [
        {
          "name": "stdout",
          "output_type": "stream",
          "text": [
            "158\n"
          ]
        }
      ],
      "source": [
        "val = \"10011110\"\n",
        "base = 2\n",
        "dec_val = int(val,base)\n",
        "print(dec_val)"
      ]
    },
    {
      "cell_type": "markdown",
      "id": "6de696f4-6bbf-4820-8695-279e06dc60c4",
      "metadata": {
        "id": "6de696f4-6bbf-4820-8695-279e06dc60c4"
      },
      "source": [
        "#### Decimal to Binary"
      ]
    },
    {
      "cell_type": "code",
      "execution_count": null,
      "id": "73a81afa-105a-4fc8-bcf3-e384d67e8c25",
      "metadata": {
        "id": "73a81afa-105a-4fc8-bcf3-e384d67e8c25",
        "outputId": "009f1e26-f365-4731-a9d5-8118f5ff867d"
      },
      "outputs": [
        {
          "name": "stdout",
          "output_type": "stream",
          "text": [
            "0b10011110\n"
          ]
        }
      ],
      "source": [
        "dec_val = 158\n",
        "bin_val = bin(dec_val)\n",
        "print(bin_val)"
      ]
    },
    {
      "cell_type": "code",
      "execution_count": null,
      "id": "51e19e3e-48a1-4394-9d31-1655d7e24fde",
      "metadata": {
        "id": "51e19e3e-48a1-4394-9d31-1655d7e24fde",
        "outputId": "58c531ff-8ca3-4e75-e8ea-a00e19e2be07"
      },
      "outputs": [
        {
          "name": "stdout",
          "output_type": "stream",
          "text": [
            "10011110\n"
          ]
        }
      ],
      "source": [
        "# if you don't want the 0b\n",
        "dec_val = 158\n",
        "bin_val = format(dec_val,'b')\n",
        "print(bin_val)"
      ]
    },
    {
      "cell_type": "markdown",
      "source": [
        "Adding link to Colab"
      ],
      "metadata": {
        "id": "3erez3FTfQU-"
      },
      "id": "3erez3FTfQU-"
    },
    {
      "cell_type": "code",
      "execution_count": null,
      "id": "64347842-d693-43a7-ba14-8029e0afd456",
      "metadata": {
        "id": "64347842-d693-43a7-ba14-8029e0afd456"
      },
      "outputs": [],
      "source": []
    }
  ],
  "metadata": {
    "kernelspec": {
      "display_name": "Python 3 (ipykernel)",
      "language": "python",
      "name": "python3"
    },
    "language_info": {
      "codemirror_mode": {
        "name": "ipython",
        "version": 3
      },
      "file_extension": ".py",
      "mimetype": "text/x-python",
      "name": "python",
      "nbconvert_exporter": "python",
      "pygments_lexer": "ipython3",
      "version": "3.12.4"
    },
    "colab": {
      "provenance": [],
      "include_colab_link": true
    }
  },
  "nbformat": 4,
  "nbformat_minor": 5
}