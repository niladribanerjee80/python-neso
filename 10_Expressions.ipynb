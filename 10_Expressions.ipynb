{
  "nbformat": 4,
  "nbformat_minor": 0,
  "metadata": {
    "colab": {
      "provenance": [],
      "authorship_tag": "ABX9TyNWi+9tEkRCEWYAQS3Fysyo",
      "include_colab_link": true
    },
    "kernelspec": {
      "name": "python3",
      "display_name": "Python 3"
    },
    "language_info": {
      "name": "python"
    }
  },
  "cells": [
    {
      "cell_type": "markdown",
      "metadata": {
        "id": "view-in-github",
        "colab_type": "text"
      },
      "source": [
        "<a href=\"https://colab.research.google.com/github/niladribanerjee80/python-neso/blob/main/10_Expressions.ipynb\" target=\"_parent\"><img src=\"https://colab.research.google.com/assets/colab-badge.svg\" alt=\"Open In Colab\"/></a>"
      ]
    },
    {
      "cell_type": "markdown",
      "source": [
        "# Expressions\n",
        "\n",
        "\n",
        "---\n",
        "\n",
        "**What is an Expression**\n",
        "\n",
        "\n",
        "*   Combination of operators (1 or many) and operands (1 or many)\n",
        "*   Always evaluates down to a value\n",
        "\n",
        "e.g. \\\n",
        "&emsp; x = 3 => this is an assignment \\\n",
        "&emsp; x + 3 => this is an expression \\\n",
        "&emsp; Here x : operand, + : operator, 3 : operand\n",
        "\n",
        "\n",
        "\n",
        "**Types of Expressions**\n",
        "\n",
        "\n",
        "*   Constant expression\n",
        "  - contains constants as operands\n",
        "\n",
        "*   Arithmetic expression\n",
        "\n",
        "  - Contains numeric values and strings as operands\n",
        "  - arithmetic operators\n",
        "  - sometimes parenthesis\n",
        "\n",
        "*   Integral expression\n",
        "  - o/p = integer\n",
        "\n",
        "*   Floating point expression\n",
        "  - o/p = float\n",
        "\n"
      ],
      "metadata": {
        "id": "bTADaU7g5bmU"
      }
    },
    {
      "cell_type": "code",
      "execution_count": 1,
      "metadata": {
        "id": "QzSUdNOSmEJ2",
        "colab": {
          "base_uri": "https://localhost:8080/"
        },
        "outputId": "c91ed34c-285f-463d-dd92-4e6e018f710c"
      },
      "outputs": [
        {
          "output_type": "execute_result",
          "data": {
            "text/plain": [
              "13"
            ]
          },
          "metadata": {},
          "execution_count": 1
        }
      ],
      "source": [
        "# constant expression\n",
        "10 + 3"
      ]
    },
    {
      "cell_type": "code",
      "source": [
        "# Arithmetic expression\n",
        "\n",
        "x = \"Neso\"\n",
        "\n",
        "x * 3"
      ],
      "metadata": {
        "id": "6hY7cYC-mI0g",
        "colab": {
          "base_uri": "https://localhost:8080/",
          "height": 35
        },
        "outputId": "88eb9b4f-46ef-4034-ab36-265829fdaa6f"
      },
      "execution_count": 2,
      "outputs": [
        {
          "output_type": "execute_result",
          "data": {
            "text/plain": [
              "'NesoNesoNeso'"
            ],
            "application/vnd.google.colaboratory.intrinsic+json": {
              "type": "string"
            }
          },
          "metadata": {},
          "execution_count": 2
        }
      ]
    },
    {
      "cell_type": "code",
      "source": [
        "# Integral expression\n",
        "\n",
        "x = 5\n",
        "y = 7.5\n",
        "\n",
        "res = x + int(y) # integral expression\n",
        "res"
      ],
      "metadata": {
        "colab": {
          "base_uri": "https://localhost:8080/"
        },
        "id": "RMgw7JJC7XEx",
        "outputId": "7b0c87e5-3fdf-45fe-df0c-1878776ed2c4"
      },
      "execution_count": 3,
      "outputs": [
        {
          "output_type": "execute_result",
          "data": {
            "text/plain": [
              "12"
            ]
          },
          "metadata": {},
          "execution_count": 3
        }
      ]
    },
    {
      "cell_type": "code",
      "source": [
        "# Floating point expression\n",
        "\n",
        "x = 5\n",
        "y = 7.5\n",
        "\n",
        "res = float(x) + y # floating point expression\n",
        "res"
      ],
      "metadata": {
        "colab": {
          "base_uri": "https://localhost:8080/"
        },
        "id": "y528OEkZ7e6M",
        "outputId": "51325096-3c27-4c5b-bc1a-8dc7a1123d17"
      },
      "execution_count": 5,
      "outputs": [
        {
          "output_type": "execute_result",
          "data": {
            "text/plain": [
              "12.5"
            ]
          },
          "metadata": {},
          "execution_count": 5
        }
      ]
    },
    {
      "cell_type": "code",
      "source": [
        "x = 10\n",
        "y = 2\n",
        "\n",
        "res = x / 2\n",
        "res"
      ],
      "metadata": {
        "colab": {
          "base_uri": "https://localhost:8080/"
        },
        "id": "T-9EUiZH7nYe",
        "outputId": "a5a1de7b-e948-4728-bc8e-1585754b8c84"
      },
      "execution_count": 6,
      "outputs": [
        {
          "output_type": "execute_result",
          "data": {
            "text/plain": [
              "5.0"
            ]
          },
          "metadata": {},
          "execution_count": 6
        }
      ]
    },
    {
      "cell_type": "code",
      "source": [],
      "metadata": {
        "id": "OEYy905r7t_3"
      },
      "execution_count": null,
      "outputs": []
    }
  ]
}