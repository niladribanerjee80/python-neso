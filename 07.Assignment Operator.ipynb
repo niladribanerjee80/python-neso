{
  "nbformat": 4,
  "nbformat_minor": 0,
  "metadata": {
    "colab": {
      "provenance": [],
      "authorship_tag": "ABX9TyNjXExjR0Vj2MwPaVqxe2Ww",
      "include_colab_link": true
    },
    "kernelspec": {
      "name": "python3",
      "display_name": "Python 3"
    },
    "language_info": {
      "name": "python"
    }
  },
  "cells": [
    {
      "cell_type": "markdown",
      "metadata": {
        "id": "view-in-github",
        "colab_type": "text"
      },
      "source": [
        "<a href=\"https://colab.research.google.com/github/niladribanerjee80/python-neso/blob/main/07.Assignment%20Operator.ipynb\" target=\"_parent\"><img src=\"https://colab.research.google.com/assets/colab-badge.svg\" alt=\"Open In Colab\"/></a>"
      ]
    },
    {
      "cell_type": "markdown",
      "source": [
        "# Assignment Operator\n",
        "\n",
        "Performs operations and assigns values to the left operand.\n",
        "\n",
        "**List of Assignment operators**\n",
        "\n",
        "\n",
        "\n",
        "1.   Assign (=)\n",
        "2.   Add & Assign (+=)\n",
        "3.   Subtract & Assign (-=)\n",
        "1.   Multiply & Assign (*=)\n",
        "2.   Divide & Assign (/=)\n",
        "1.   Modulus & Assign (%=)\n",
        "2.   Divide (floor) & Assign (%=)\n",
        "1.   Exponent & Assign (**=)\n",
        "2.   Bitwise AND & Assign (&=)\n",
        "1.   Bitwise OR & Assign (|=)\n",
        "2.   Bitwise XOR & Assign (^=)\n",
        "1.   Bitwise right shift & Assign (>>=)\n",
        "2.   Bitwise left shift & Assign (>>=)\n",
        "\n",
        "\n",
        "\n",
        "\n",
        "\n",
        "\n",
        "\n",
        "\n",
        "\n",
        "\n",
        "\n",
        "\n",
        "\n"
      ],
      "metadata": {
        "id": "0LFd3EZnvEQU"
      }
    },
    {
      "cell_type": "markdown",
      "source": [
        "### **Assign operation (=)**\n",
        "\n",
        "\n",
        "---\n",
        "Assigns value of RHS expression to LHS operand\n",
        "\n",
        "\n",
        "\n"
      ],
      "metadata": {
        "id": "sPO7io_ywasm"
      }
    },
    {
      "cell_type": "code",
      "execution_count": null,
      "metadata": {
        "id": "_fovkDmyqbFZ",
        "colab": {
          "base_uri": "https://localhost:8080/"
        },
        "outputId": "f5568dff-c1b5-437a-885a-a39309cf658f"
      },
      "outputs": [
        {
          "output_type": "execute_result",
          "data": {
            "text/plain": [
              "10"
            ]
          },
          "metadata": {},
          "execution_count": 3
        }
      ],
      "source": [
        "x = 10\n",
        "x"
      ]
    },
    {
      "cell_type": "markdown",
      "source": [
        "### **Add and Assign (+=)**\n",
        "\n",
        "\n",
        "---\n",
        "\n",
        "\n",
        "\n",
        "*   Adds left + right operand\n",
        "*   stores the result to left operand\n",
        "\n"
      ],
      "metadata": {
        "id": "evwyqTkRw1ZD"
      }
    },
    {
      "cell_type": "code",
      "source": [
        "x = 10\n",
        "y = 20\n",
        "x += y\n",
        "x"
      ],
      "metadata": {
        "colab": {
          "base_uri": "https://localhost:8080/"
        },
        "id": "KtMennkHu556",
        "outputId": "0bec5eec-9923-4c4d-f305-b9e4861bbeeb"
      },
      "execution_count": null,
      "outputs": [
        {
          "output_type": "execute_result",
          "data": {
            "text/plain": [
              "30"
            ]
          },
          "metadata": {},
          "execution_count": 4
        }
      ]
    },
    {
      "cell_type": "markdown",
      "source": [
        "### **Bitwise XOR and Assign (^=)**\n",
        "\n",
        "\n",
        "---\n",
        "XOR = Returns 1 if one of the bits is 1\n",
        "\n",
        "Computes bitwise XOR of the left and right operand and stores the result in left operand.\n"
      ],
      "metadata": {
        "id": "LGmgVPEhxUWn"
      }
    },
    {
      "cell_type": "code",
      "source": [
        "x = 10\n",
        "y = 20\n",
        "x ^= y\n",
        "x"
      ],
      "metadata": {
        "colab": {
          "base_uri": "https://localhost:8080/"
        },
        "id": "sWnsOsWtxO9I",
        "outputId": "bfb9065a-66d8-4697-96b9-bda1898c8118"
      },
      "execution_count": null,
      "outputs": [
        {
          "output_type": "execute_result",
          "data": {
            "text/plain": [
              "30"
            ]
          },
          "metadata": {},
          "execution_count": 5
        }
      ]
    },
    {
      "cell_type": "code",
      "source": [
        "# Homework problem\n",
        "\n",
        "x = 55\n",
        "y = 10\n",
        "x &= y\n",
        "x"
      ],
      "metadata": {
        "colab": {
          "base_uri": "https://localhost:8080/"
        },
        "id": "_gfanJXGxNh5",
        "outputId": "1d462f5e-32fc-42d6-dda2-d337fa447712"
      },
      "execution_count": null,
      "outputs": [
        {
          "output_type": "execute_result",
          "data": {
            "text/plain": [
              "2"
            ]
          },
          "metadata": {},
          "execution_count": 6
        }
      ]
    },
    {
      "cell_type": "markdown",
      "source": [
        "Adding link of Colab"
      ],
      "metadata": {
        "id": "OiGMHB5L-lRr"
      }
    },
    {
      "cell_type": "code",
      "source": [],
      "metadata": {
        "id": "CjcX4V0pxxZ5"
      },
      "execution_count": null,
      "outputs": []
    }
  ]
}