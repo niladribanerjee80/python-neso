{
  "nbformat": 4,
  "nbformat_minor": 0,
  "metadata": {
    "colab": {
      "provenance": [],
      "authorship_tag": "ABX9TyMjFfzmPqo4CGXsytqqyCLi",
      "include_colab_link": true
    },
    "kernelspec": {
      "name": "python3",
      "display_name": "Python 3"
    },
    "language_info": {
      "name": "python"
    }
  },
  "cells": [
    {
      "cell_type": "markdown",
      "metadata": {
        "id": "view-in-github",
        "colab_type": "text"
      },
      "source": [
        "<a href=\"https://colab.research.google.com/github/niladribanerjee80/python-neso/blob/main/08.Membership%20operator.ipynb\" target=\"_parent\"><img src=\"https://colab.research.google.com/assets/colab-badge.svg\" alt=\"Open In Colab\"/></a>"
      ]
    },
    {
      "cell_type": "markdown",
      "source": [
        "# **Membership operator**\n",
        "\n",
        "\n",
        "---\n",
        "\n",
        "Checks the availability of value in a specified sequence or iterable.\n",
        "\n",
        "iterable - which can return it's each members one by one\n",
        "\n",
        "**list of iterables on which membership operators work**\n",
        "\n",
        "\n",
        "*   String\n",
        "*   List\n",
        "*   Tuple\n",
        "*   Dictionary - iterates over keys\n",
        "\n",
        "**Membership Operators**\n",
        "\n",
        "*   **\"in\" operator** - Returns True if the specified value is present in the iterable, or else returns False\n",
        "*   **\"not in\" operator** -  Returns True if the specified value is not present in the iterable, or else returns False\n",
        "\n",
        "\n",
        "\n",
        "\n",
        "\n"
      ],
      "metadata": {
        "id": "nlcNg9YG0VZC"
      }
    },
    {
      "cell_type": "code",
      "execution_count": null,
      "metadata": {
        "colab": {
          "base_uri": "https://localhost:8080/"
        },
        "id": "GbDhU9--x-so",
        "outputId": "36071bf7-e809-47f6-f433-895497b5ad58"
      },
      "outputs": [
        {
          "output_type": "execute_result",
          "data": {
            "text/plain": [
              "True"
            ]
          },
          "metadata": {},
          "execution_count": 1
        }
      ],
      "source": [
        "# in operator use with string\n",
        "\n",
        "my_str = \"Niladri\"\n",
        "\n",
        "substr = \"adri\"\n",
        "\n",
        "substr in my_str"
      ]
    },
    {
      "cell_type": "code",
      "source": [
        "# in operator use with list\n",
        "\n",
        "numbers = [1,2,3]\n",
        "\n",
        "num = 5\n",
        "\n",
        "num in numbers"
      ],
      "metadata": {
        "colab": {
          "base_uri": "https://localhost:8080/"
        },
        "id": "S4b2A0nV1h1-",
        "outputId": "5194b275-74c7-42b5-89d3-1525917b2222"
      },
      "execution_count": null,
      "outputs": [
        {
          "output_type": "execute_result",
          "data": {
            "text/plain": [
              "False"
            ]
          },
          "metadata": {},
          "execution_count": 2
        }
      ]
    },
    {
      "cell_type": "code",
      "source": [
        "num = 3\n",
        "\n",
        "num in numbers"
      ],
      "metadata": {
        "colab": {
          "base_uri": "https://localhost:8080/"
        },
        "id": "8oqjf0G518hb",
        "outputId": "493d4558-39ef-48bc-fe19-10bef37b7c08"
      },
      "execution_count": null,
      "outputs": [
        {
          "output_type": "execute_result",
          "data": {
            "text/plain": [
              "True"
            ]
          },
          "metadata": {},
          "execution_count": 3
        }
      ]
    },
    {
      "cell_type": "markdown",
      "source": [
        "### **Dictionary**\n",
        "\n",
        "\n",
        "---\n",
        "It is a data structure that contains sequence of key-value pairs.\n",
        "\n",
        "Membership operator can be applied on dictionary but it iterates over the keys.\n",
        "\n"
      ],
      "metadata": {
        "id": "OPCX_KhT6tWt"
      }
    },
    {
      "cell_type": "code",
      "source": [
        "my_dict = {\n",
        "    \"name\" : \"Niladri\",\n",
        "    \"age\" : 44\n",
        "}\n",
        "\n",
        "'Niladri' in my_dict"
      ],
      "metadata": {
        "id": "MNNSBJDM2GIc",
        "colab": {
          "base_uri": "https://localhost:8080/"
        },
        "outputId": "8f90b5a7-6c00-487c-89cb-38921e5670c3"
      },
      "execution_count": null,
      "outputs": [
        {
          "output_type": "execute_result",
          "data": {
            "text/plain": [
              "False"
            ]
          },
          "metadata": {},
          "execution_count": 1
        }
      ]
    },
    {
      "cell_type": "code",
      "source": [
        "'name' in my_dict"
      ],
      "metadata": {
        "colab": {
          "base_uri": "https://localhost:8080/"
        },
        "id": "8rjreeYu7Pxy",
        "outputId": "64a8f10c-83f2-489c-8a8b-91cfbf725d68"
      },
      "execution_count": null,
      "outputs": [
        {
          "output_type": "execute_result",
          "data": {
            "text/plain": [
              "True"
            ]
          },
          "metadata": {},
          "execution_count": 2
        }
      ]
    },
    {
      "cell_type": "markdown",
      "source": [
        "Adding link of Colab"
      ],
      "metadata": {
        "id": "Vz0nP24K-Gar"
      }
    },
    {
      "cell_type": "code",
      "source": [],
      "metadata": {
        "id": "C7JkH5_b75tV"
      },
      "execution_count": null,
      "outputs": []
    }
  ]
}