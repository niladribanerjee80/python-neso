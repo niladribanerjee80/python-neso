{
  "nbformat": 4,
  "nbformat_minor": 0,
  "metadata": {
    "colab": {
      "provenance": [],
      "authorship_tag": "ABX9TyPwmUccODyrNcstdaOjpXmx"
    },
    "kernelspec": {
      "name": "python3",
      "display_name": "Python 3"
    },
    "language_info": {
      "name": "python"
    }
  },
  "cells": [
    {
      "cell_type": "code",
      "execution_count": 2,
      "metadata": {
        "id": "NmVHQugc8tmk",
        "outputId": "8120ad7e-ba2f-419a-9d45-6efe5ca3a3be",
        "colab": {
          "base_uri": "https://localhost:8080/"
        }
      },
      "outputs": [
        {
          "output_type": "stream",
          "name": "stdout",
          "text": [
            "Testing google colab\n"
          ]
        }
      ],
      "source": [
        "print(\"Testing google colab\")"
      ]
    },
    {
      "cell_type": "code",
      "source": [],
      "metadata": {
        "id": "boRI8MKMkebt"
      },
      "execution_count": null,
      "outputs": []
    }
  ]
}