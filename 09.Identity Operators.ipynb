{
  "nbformat": 4,
  "nbformat_minor": 0,
  "metadata": {
    "colab": {
      "provenance": [],
      "authorship_tag": "ABX9TyNLW69sujIWN0i5d74jXXFV"
    },
    "kernelspec": {
      "name": "python3",
      "display_name": "Python 3"
    },
    "language_info": {
      "name": "python"
    }
  },
  "cells": [
    {
      "cell_type": "markdown",
      "source": [
        "# **Identity Operator**\n",
        "\n",
        "\n",
        "---\n",
        "\n",
        "\n",
        "**Compares the IDs of the objects**\n",
        "\n",
        "\n",
        "\n",
        "*   Equality operator (==) compares the values of operands\n",
        "    - value (operand 1) == value (operand 2)\n",
        "*   **is** operator compares the IDs\n",
        "    - id (operand 1) == id (operand 2)\n",
        "\n",
        "&emsp;&emsp;x = 10\n",
        "\n",
        "&emsp;&emsp;***variable_name (x) = object (10)*** \\\n",
        "\n",
        "&emsp;&emsp;***object = data + properties + behavior*** \\\n",
        "&emsp;&emsp;***Each object in python has a memory location*** \\\n",
        "&emsp;&emsp;***Syntax : id(object)***\n",
        "\n",
        "\n"
      ],
      "metadata": {
        "id": "Ob2SQVBWk7SQ"
      }
    },
    {
      "cell_type": "code",
      "execution_count": 3,
      "metadata": {
        "id": "NmVHQugc8tmk"
      },
      "outputs": [],
      "source": [
        "my_str = \"Hello\""
      ]
    },
    {
      "cell_type": "code",
      "source": [
        "my_new_str = \"Hello\" # no new memory allocation will happen. Python will use the same memory as in my_str"
      ],
      "metadata": {
        "id": "boRI8MKMkebt"
      },
      "execution_count": 4,
      "outputs": []
    },
    {
      "cell_type": "code",
      "source": [
        "id(my_str)"
      ],
      "metadata": {
        "id": "jh_mhqY2m_U_",
        "outputId": "003e16ac-4366-4b4c-c708-0a566be3100f",
        "colab": {
          "base_uri": "https://localhost:8080/"
        }
      },
      "execution_count": 5,
      "outputs": [
        {
          "output_type": "execute_result",
          "data": {
            "text/plain": [
              "134805353377904"
            ]
          },
          "metadata": {},
          "execution_count": 5
        }
      ]
    },
    {
      "cell_type": "code",
      "source": [
        "id(my_new_str)"
      ],
      "metadata": {
        "id": "6U58b8mynBCz",
        "outputId": "c7a54895-a98d-4493-8dde-87ab5ce7c6d1",
        "colab": {
          "base_uri": "https://localhost:8080/"
        }
      },
      "execution_count": 6,
      "outputs": [
        {
          "output_type": "execute_result",
          "data": {
            "text/plain": [
              "134805353377904"
            ]
          },
          "metadata": {},
          "execution_count": 6
        }
      ]
    },
    {
      "cell_type": "code",
      "source": [
        "my_str is my_new_str # expecting true"
      ],
      "metadata": {
        "id": "bvj3QVcCnDgz",
        "outputId": "219bb7ee-5f03-4d7c-bee8-e901fff037a9",
        "colab": {
          "base_uri": "https://localhost:8080/"
        }
      },
      "execution_count": 7,
      "outputs": [
        {
          "output_type": "execute_result",
          "data": {
            "text/plain": [
              "True"
            ]
          },
          "metadata": {},
          "execution_count": 7
        }
      ]
    },
    {
      "cell_type": "markdown",
      "source": [
        "## **Note**\n",
        "\n",
        "\n",
        "---\n",
        "\n",
        "Python will not allocate new memory for the following\n",
        "\n",
        "*  Integer\n",
        "*  Float\n",
        "*  String\n",
        "\n",
        "**But for List, new memory gets allocated**\n",
        "\n",
        "&emsp;&emsp;&emsp;&emsp;list_1 = [1,2,3]\n",
        "\n",
        "&emsp;&emsp;&emsp;&emsp;list_2 = [1,2,3]\n",
        "\n",
        "***list_2 can be modified without making any impact on list_1***\n",
        "\n",
        "**is not operator**\n",
        "\n",
        "Returns True when both operands does not have same ID.\n",
        "\n",
        "\n",
        "\n"
      ],
      "metadata": {
        "id": "KDk_NGiQnO8k"
      }
    },
    {
      "cell_type": "code",
      "source": [
        "list_1 = [1,2,3] # object 1\n",
        "list_2 = [1,2,3] # object 2 - separate memory gets created\n",
        "\n",
        "print(id(list_1))\n",
        "print(id(list_2))\n",
        "\n",
        "print(list_1 is list_2) # expecting : False\n",
        "print(list_1 == list_2) # expecting : True"
      ],
      "metadata": {
        "id": "coBzQCa1nJd0",
        "outputId": "64c4d1c6-a7d7-41d0-a1c2-47013f5925b8",
        "colab": {
          "base_uri": "https://localhost:8080/"
        }
      },
      "execution_count": 9,
      "outputs": [
        {
          "output_type": "stream",
          "name": "stdout",
          "text": [
            "134805353808384\n",
            "134805353811968\n",
            "False\n",
            "True\n"
          ]
        }
      ]
    },
    {
      "cell_type": "code",
      "source": [],
      "metadata": {
        "id": "XkTzEBX0oipg"
      },
      "execution_count": null,
      "outputs": []
    }
  ]
}