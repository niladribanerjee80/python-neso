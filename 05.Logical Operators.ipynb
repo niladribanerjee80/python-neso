{
  "cells": [
    {
      "cell_type": "markdown",
      "metadata": {
        "id": "view-in-github",
        "colab_type": "text"
      },
      "source": [
        "<a href=\"https://colab.research.google.com/github/niladribanerjee80/python-neso/blob/main/05.Logical%20Operators.ipynb\" target=\"_parent\"><img src=\"https://colab.research.google.com/assets/colab-badge.svg\" alt=\"Open In Colab\"/></a>"
      ]
    },
    {
      "cell_type": "markdown",
      "id": "f46f3d09-7e92-4c7b-a4e4-ed6158af6b63",
      "metadata": {
        "id": "f46f3d09-7e92-4c7b-a4e4-ed6158af6b63"
      },
      "source": [
        "# Logical Operators\n",
        "\n",
        "**Logical Operators are used to combine conditional expressions**\\\n",
        "**conditional expressions are those which uses comparison operators**\n",
        "\n",
        "1. Logical AND = and | binary operator\n",
        "2. Logical OR  = or  | binary operator\n",
        "3. Logical NOT = not | unary operator\n",
        "\n",
        "**List of comparison operators**\n",
        "\n",
        "| Operators       |\n",
        "| -------------   |\n",
        "| >, >=           |\n",
        "| ==              |\n",
        "| <, <=           |\n",
        "| !=              |"
      ]
    },
    {
      "cell_type": "markdown",
      "id": "58e8e073-d9b9-481c-923c-b4669b0aacdf",
      "metadata": {
        "id": "58e8e073-d9b9-481c-923c-b4669b0aacdf"
      },
      "source": [
        "### Logical AND = and\n",
        "\n",
        "**Returns True if both conditions are true or else returns False**"
      ]
    },
    {
      "cell_type": "code",
      "execution_count": null,
      "id": "7412a9b7-fa9b-4181-af8f-515cd27af951",
      "metadata": {
        "id": "7412a9b7-fa9b-4181-af8f-515cd27af951",
        "outputId": "15639583-a668-4167-f797-8ac99c871c8e"
      },
      "outputs": [
        {
          "name": "stdout",
          "output_type": "stream",
          "text": [
            "x is not the largest number\n"
          ]
        }
      ],
      "source": [
        "x = 10\n",
        "y = 20\n",
        "z = 30\n",
        "\n",
        "if ( x > y and y > z ):\n",
        "    print(\"x is the largest number\")\n",
        "else:\n",
        "    print(\"x is not the largest number\")"
      ]
    },
    {
      "cell_type": "markdown",
      "id": "7b5d934f-090b-4b70-8add-6bbd5819399d",
      "metadata": {
        "id": "7b5d934f-090b-4b70-8add-6bbd5819399d"
      },
      "source": [
        "### Logical OR = or\n",
        "\n",
        "**Returns True if any of the conditions are true or else returns False**"
      ]
    },
    {
      "cell_type": "code",
      "execution_count": null,
      "id": "2e7a525b-e1a8-4c0c-b9bf-bd90e2b18ab0",
      "metadata": {
        "id": "2e7a525b-e1a8-4c0c-b9bf-bd90e2b18ab0",
        "outputId": "a4ad6f65-c3c5-4514-ec21-d0e54c4a3a05"
      },
      "outputs": [
        {
          "name": "stdout",
          "output_type": "stream",
          "text": [
            "OR condition satisfied\n"
          ]
        }
      ],
      "source": [
        "x = 10\n",
        "y = 30\n",
        "z = 20\n",
        "\n",
        "if ( x > y or y > z ):\n",
        "    print(\"OR condition satisfied\")\n",
        "else:\n",
        "    print(\"OR condition is not satisfied\")"
      ]
    },
    {
      "cell_type": "markdown",
      "id": "63f0a341-2012-4076-9ba1-e1cdf0ded549",
      "metadata": {
        "id": "63f0a341-2012-4076-9ba1-e1cdf0ded549"
      },
      "source": [
        "### Logical NOT = not\n",
        "\n",
        "**Returns True if the conditional expression returns False and vice-versa**"
      ]
    },
    {
      "cell_type": "code",
      "execution_count": null,
      "id": "46ecc8d4-29b3-4087-b7d3-cae7d015efdf",
      "metadata": {
        "id": "46ecc8d4-29b3-4087-b7d3-cae7d015efdf",
        "outputId": "6ab129ec-6945-4690-c5f2-ef9b7f149a6b"
      },
      "outputs": [
        {
          "name": "stdout",
          "output_type": "stream",
          "text": [
            "x is not the largest number\n"
          ]
        }
      ],
      "source": [
        "x = 10\n",
        "y = 20\n",
        "z = 30\n",
        "\n",
        "if not ( x > y or y > z ):\n",
        "    print(\"x is not the largest number\")"
      ]
    },
    {
      "cell_type": "markdown",
      "source": [
        "Adding link of Colab"
      ],
      "metadata": {
        "id": "X4lfGnzl9oPw"
      },
      "id": "X4lfGnzl9oPw"
    },
    {
      "cell_type": "code",
      "execution_count": null,
      "id": "908be2f0-666c-4948-911a-33cc79e53aae",
      "metadata": {
        "id": "908be2f0-666c-4948-911a-33cc79e53aae"
      },
      "outputs": [],
      "source": []
    }
  ],
  "metadata": {
    "kernelspec": {
      "display_name": "Python 3 (ipykernel)",
      "language": "python",
      "name": "python3"
    },
    "language_info": {
      "codemirror_mode": {
        "name": "ipython",
        "version": 3
      },
      "file_extension": ".py",
      "mimetype": "text/x-python",
      "name": "python",
      "nbconvert_exporter": "python",
      "pygments_lexer": "ipython3",
      "version": "3.12.4"
    },
    "colab": {
      "provenance": [],
      "include_colab_link": true
    }
  },
  "nbformat": 4,
  "nbformat_minor": 5
}