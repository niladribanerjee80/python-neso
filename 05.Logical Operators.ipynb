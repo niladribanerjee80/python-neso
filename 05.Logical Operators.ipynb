{
 "cells": [
  {
   "cell_type": "markdown",
   "id": "f46f3d09-7e92-4c7b-a4e4-ed6158af6b63",
   "metadata": {},
   "source": [
    "# Logical Operators\n",
    "\n",
    "**Logical Operators are used to combine conditional expressions**\\\n",
    "**conditional expressions are those which uses comparison operators**\n",
    "\n",
    "1. Logical AND = and | binary operator\n",
    "2. Logical OR  = or  | binary operator\n",
    "3. Logical NOT = not | unary operator\n",
    "\n",
    "**List of comparison operators**\n",
    "\n",
    "| Operators       |\n",
    "| -------------   |\n",
    "| >, >=           |\n",
    "| ==              |\n",
    "| <, <=           |\n",
    "| !=              |"
   ]
  },
  {
   "cell_type": "markdown",
   "id": "58e8e073-d9b9-481c-923c-b4669b0aacdf",
   "metadata": {},
   "source": [
    "### Logical AND = and\n",
    "\n",
    "**Returns True if both conditions are true or else returns False**"
   ]
  },
  {
   "cell_type": "code",
   "execution_count": 1,
   "id": "7412a9b7-fa9b-4181-af8f-515cd27af951",
   "metadata": {},
   "outputs": [
    {
     "name": "stdout",
     "output_type": "stream",
     "text": [
      "x is not the largest number\n"
     ]
    }
   ],
   "source": [
    "x = 10\n",
    "y = 20\n",
    "z = 30\n",
    "\n",
    "if ( x > y and y > z ):\n",
    "    print(\"x is the largest number\")\n",
    "else:\n",
    "    print(\"x is not the largest number\")"
   ]
  },
  {
   "cell_type": "markdown",
   "id": "7b5d934f-090b-4b70-8add-6bbd5819399d",
   "metadata": {},
   "source": [
    "### Logical OR = or\n",
    "\n",
    "**Returns True if any of the conditions are true or else returns False**"
   ]
  },
  {
   "cell_type": "code",
   "execution_count": 2,
   "id": "2e7a525b-e1a8-4c0c-b9bf-bd90e2b18ab0",
   "metadata": {},
   "outputs": [
    {
     "name": "stdout",
     "output_type": "stream",
     "text": [
      "OR condition satisfied\n"
     ]
    }
   ],
   "source": [
    "x = 10\n",
    "y = 30\n",
    "z = 20\n",
    "\n",
    "if ( x > y or y > z ):\n",
    "    print(\"OR condition satisfied\")\n",
    "else:\n",
    "    print(\"OR condition is not satisfied\")"
   ]
  },
  {
   "cell_type": "markdown",
   "id": "63f0a341-2012-4076-9ba1-e1cdf0ded549",
   "metadata": {},
   "source": [
    "### Logical NOT = not\n",
    "\n",
    "**Returns True if the conditional expression returns False and vice-versa**"
   ]
  },
  {
   "cell_type": "code",
   "execution_count": 3,
   "id": "46ecc8d4-29b3-4087-b7d3-cae7d015efdf",
   "metadata": {},
   "outputs": [
    {
     "name": "stdout",
     "output_type": "stream",
     "text": [
      "x is not the largest number\n"
     ]
    }
   ],
   "source": [
    "x = 10\n",
    "y = 20\n",
    "z = 30\n",
    "\n",
    "if not ( x > y or y > z ):\n",
    "    print(\"x is not the largest number\")"
   ]
  },
  {
   "cell_type": "code",
   "execution_count": null,
   "id": "908be2f0-666c-4948-911a-33cc79e53aae",
   "metadata": {},
   "outputs": [],
   "source": []
  }
 ],
 "metadata": {
  "kernelspec": {
   "display_name": "Python 3 (ipykernel)",
   "language": "python",
   "name": "python3"
  },
  "language_info": {
   "codemirror_mode": {
    "name": "ipython",
    "version": 3
   },
   "file_extension": ".py",
   "mimetype": "text/x-python",
   "name": "python",
   "nbconvert_exporter": "python",
   "pygments_lexer": "ipython3",
   "version": "3.12.4"
  }
 },
 "nbformat": 4,
 "nbformat_minor": 5
}
